{
 "cells": [
  {
   "cell_type": "code",
   "execution_count": 1,
   "id": "94e872e3-7699-48dd-8449-bea5f6f7ab30",
   "metadata": {
    "tags": []
   },
   "outputs": [
    {
     "ename": "SyntaxError",
     "evalue": "invalid syntax (2325480086.py, line 1)",
     "output_type": "error",
     "traceback": [
      "\u001b[0;36m  Cell \u001b[0;32mIn[1], line 1\u001b[0;36m\u001b[0m\n\u001b[0;31m    pip install tangelo-gc\u001b[0m\n\u001b[0m        ^\u001b[0m\n\u001b[0;31mSyntaxError\u001b[0m\u001b[0;31m:\u001b[0m invalid syntax\n"
     ]
    }
   ],
   "source": [
    "pip install tangelo-gc\n",
    "\n",
    "try:\n",
    "    import os\n",
    "except ImportError:\n",
    "    print (\"os error\")"
   ]
  },
  {
   "cell_type": "code",
   "execution_count": 2,
   "id": "2dbe1e57-55a0-4f78-8425-2b3b91756f0c",
   "metadata": {
    "tags": []
   },
   "outputs": [
    {
     "name": "stdout",
     "output_type": "stream",
     "text": [
      "Collecting PySCF\n",
      "  Using cached pyscf-2.5.0-py3-none-manylinux_2_17_x86_64.manylinux2014_x86_64.whl.metadata (3.1 kB)\n",
      "Requirement already satisfied: numpy!=1.16,!=1.17,>=1.13 in /opt/conda/lib/python3.9/site-packages (from PySCF) (1.26.4)\n",
      "Requirement already satisfied: scipy!=1.5.0,!=1.5.1 in /opt/conda/lib/python3.9/site-packages (from PySCF) (1.13.0)\n",
      "Requirement already satisfied: h5py>=2.7 in /opt/conda/lib/python3.9/site-packages (from PySCF) (3.11.0)\n",
      "Requirement already satisfied: setuptools in /opt/conda/lib/python3.9/site-packages (from PySCF) (68.2.2)\n",
      "Using cached pyscf-2.5.0-py3-none-manylinux_2_17_x86_64.manylinux2014_x86_64.whl (47.3 MB)\n",
      "Installing collected packages: PySCF\n",
      "Successfully installed PySCF-2.5.0\n"
     ]
    }
   ],
   "source": [
    "pip install PySCF"
   ]
  },
  {
   "cell_type": "markdown",
   "id": "3b924dc0-0a06-4d76-9a00-16997aa39beb",
   "metadata": {
    "tags": []
   },
   "source": [
    "# Building frozen silicon hexagon"
   ]
  },
  {
   "cell_type": "markdown",
   "id": "53683e7b-8928-4be8-8ab1-c1b52046f338",
   "metadata": {},
   "source": [
    "## First, we're building the shape. We find that we're using 24 active molecular orbitals and 24 active electrons."
   ]
  },
  {
   "cell_type": "code",
   "execution_count": 4,
   "id": "39a9991f-35ec-466c-96fe-4bb55579d598",
   "metadata": {},
   "outputs": [
    {
     "name": "stdout",
     "output_type": "stream",
     "text": [
      "24 active molecular orbitals\n",
      "24 active electrons\n"
     ]
    },
    {
     "data": {
      "text/plain": [
       "NPArrayWithTag([2., 2., 2., 2., 2., 2., 2., 2., 2., 2., 2., 2., 2., 2.,\n",
       "                2., 2., 2., 2., 2., 2., 2., 2., 2., 2., 2., 2., 2., 2.,\n",
       "                2., 2., 2., 2., 2., 2., 2., 2., 2., 2., 2., 2., 2., 1.,\n",
       "                1., 0., 0., 0., 0., 0., 0., 0., 0., 0., 0., 0.])"
      ]
     },
     "execution_count": 4,
     "metadata": {},
     "output_type": "execute_result"
    }
   ],
   "source": [
    "##########################\n",
    "from tangelo import SecondQuantizedMolecule as SQMol\n",
    "\n",
    "# crystal lattice Si\n",
    "# source: https://www.princeton.edu/~maelabs/mae324/glos324/silicon.htm\n",
    "# si_xyz = [(\"Si\", (0., 0., 0.)), (\"Si\", (0., 0., 2.35))]\n",
    "\n",
    "# put into hexagon\n",
    "si_xyz = [(\"Si\", (0., 0., 0.)), (\"Si\", (0., -2.35, 0)), (\"Si\", (2.35*0.5, 2.35*0.866, 0)),\n",
    "         (\"Si\", (2.35*0.5, -2.35*0.866, 0)), (\"Si\", (-2.35*0.5, 2.35*0.866, 0)), (\"Si\", (-2.35*0.5, -2.35*0.866, 0))]\n",
    "\n",
    "\n",
    "si_6311gdp = SQMol(si_xyz, q=0, spin=2)\n",
    "print(f\"{si_6311gdp.n_active_mos} active molecular orbitals\")\n",
    "print(f\"{si_6311gdp.n_active_electrons} active electrons\")\n",
    "\n",
    "##########################\n",
    "\n",
    "basis_sets = [\n",
    "    \"STO-3G\",       # Simple zeta, minimal basis.\n",
    "    \"3-21G\",        # Double zeta.\n",
    "    \"6-31G\",        # Double zeta with more Gaussian primitives.\n",
    "    \"6-31G(d,p)\",   # Polarization functions (+ 5 d-orbitals for all atoms except H, +3 p-orbitals for H atoms) added.\n",
    "    \"6-311G(d,p)\",  # Triple zeta with polarization functions.\n",
    "    \"6-311+G(d,p)\", # Triple zeta with polarization functions and diffuse functions.\n",
    "    \"cc-pvqz\",      # Quadruple zeta.\n",
    "    \"cc-pv5z\"       # Quintuple zeta.\n",
    "]\n",
    "\n",
    "###\n",
    "si_6311gdp.mo_occ"
   ]
  },
  {
   "cell_type": "markdown",
   "id": "d132a5cf-0161-43b6-a709-26ed899d3666",
   "metadata": {},
   "source": [
    "### Let's freeze everything but the valence shell."
   ]
  },
  {
   "cell_type": "code",
   "execution_count": 7,
   "id": "b07c9993-52ed-4001-a486-8d4dee77197f",
   "metadata": {
    "tags": []
   },
   "outputs": [
    {
     "name": "stdout",
     "output_type": "stream",
     "text": [
      "  #  Energy  Symm Occ\n",
      "  1 -68.9478  A1   2\n",
      "  2 -68.8524  A1   2\n",
      "  3 -68.8116  B2   2\n",
      "  4 -68.8116  A1   2\n",
      "  5 -68.8095  A1   2\n",
      "  6 -68.8094  B2   2\n",
      "  7  -6.4481  A1   2\n",
      "  8  -6.2513  B2   2\n",
      "  9  -6.2317  A1   2\n",
      " 10  -6.2091  A1   2\n",
      "Number of active electrons: 12\n",
      "Number of active orbtials: 64\n"
     ]
    }
   ],
   "source": [
    "from tangelo import SecondQuantizedMolecule as SQMol\n",
    "si6=  \"\"\"Si 0.  0. 0.\n",
    "         Si 0. -2.35 0.\n",
    "         Si 2.35*0.5 2.35*0.866 0.\n",
    "         Si 2.35*0.5 -2.35*0.866 0.\n",
    "         Si -2.35*0.5 2.35*0.866 0.\n",
    "         Si -2.35*0.5 -2.35*0.866 0. \"\"\"\n",
    "\n",
    "# freeze some\n",
    "fo = [0, 1, 2, 3, 4, 5, 6, 7, 8, 9, 10, 11, 12, 13, 14, 15, 16, 17,18, 19, 20, 21, 22, 23, 24]+[i for i in range(31,50)]\n",
    "\n",
    "# Runs RHF calculation\n",
    "mol_si6 = SQMol(si6, q=0, spin=0, basis='6-31g(d,p)', frozen_orbitals=fo, symmetry=True)\n",
    "\n",
    "print(\"  #  Energy  Symm Occ\")\n",
    "for i in range(10):\n",
    "    print(f\"{i+1:3d}{mol_si6.mo_energies[i]: 9.4f}  {mol_si6.mo_symm_labels[i]}   {int(mol_si6.mo_occ[i])}\")\n",
    "\n",
    "# Active electrons, Active orbitals\n",
    "print(f\"Number of active electrons: {mol_si6.n_active_electrons}\")\n",
    "print(f\"Number of active orbtials: {mol_si6.n_active_mos}\")"
   ]
  },
  {
   "cell_type": "code",
   "execution_count": null,
   "id": "53f70b69-bb97-4f9c-b3a5-338ab659c527",
   "metadata": {
    "tags": []
   },
   "outputs": [
    {
     "name": "stdout",
     "output_type": "stream",
     "text": [
      "Importing VQE, Ansatze\n",
      "Importing FCI\n",
      "Solving FCI\n"
     ]
    }
   ],
   "source": [
    "# Now, let us try to get the ground energy state.\n",
    "print(\"Importing VQE, Ansatze\")\n",
    "from tangelo.algorithms.variational import VQESolver, BuiltInAnsatze\n",
    "print(\"Importing FCI\")\n",
    "from tangelo.algorithms.classical import FCISolver\n",
    "\n",
    "algorithm_resources = dict()\n",
    "\n",
    "print(\"Solving FCI\")\n",
    "print(f\"CASCI energy = {FCISolver(mol_si6).simulate()}\")\n",
    "\n",
    "# Ground state energy calculation with VQE, reference values with FCI\n",
    "vqe_options = {\"molecule\": mol_si6, \"ansatz\": BuiltInAnsatze.UCCSD}\n",
    "print(\"Solving\")\n",
    "vqe_solver = VQESolver(vqe_options)\n",
    "print(\"Building\")\n",
    "vqe_solver.build()\n",
    "vqe_energy = vqe_solver.simulate()\n",
    "print(\"\\n Ground Singlet state\")\n",
    "print(f\"VQE energy = {vqe_energy}\")\n",
    "\n",
    "algorithm_resources[\"vqe_ground_state\"] = vqe_solver.get_resources()"
   ]
  }
 ],
 "metadata": {
  "kernelspec": {
   "display_name": "Python 3 [Default]",
   "language": "python",
   "name": "python3"
  },
  "language_info": {
   "codemirror_mode": {
    "name": "ipython",
    "version": 3
   },
   "file_extension": ".py",
   "mimetype": "text/x-python",
   "name": "python",
   "nbconvert_exporter": "python",
   "pygments_lexer": "ipython3",
   "version": "3.11.8"
  }
 },
 "nbformat": 4,
 "nbformat_minor": 5
}
