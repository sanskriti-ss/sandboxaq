{
 "cells": [
  {
   "cell_type": "code",
   "execution_count": 1,
   "id": "7a0b793c-73d0-46a9-bc94-189162d4bdca",
   "metadata": {
    "tags": []
   },
   "outputs": [
    {
     "name": "stdout",
     "output_type": "stream",
     "text": [
      "Collecting tangelo-gc\n",
      "  Using cached tangelo_gc-0.4.2-py3-none-any.whl.metadata (912 bytes)\n",
      "Collecting h5py (from tangelo-gc)\n",
      "  Using cached h5py-3.11.0-cp311-cp311-manylinux_2_17_x86_64.manylinux2014_x86_64.whl.metadata (2.5 kB)\n",
      "Collecting bitarray (from tangelo-gc)\n",
      "  Using cached bitarray-2.9.2-cp311-cp311-manylinux_2_17_x86_64.manylinux2014_x86_64.whl.metadata (34 kB)\n",
      "Collecting openfermion (from tangelo-gc)\n",
      "  Using cached openfermion-1.6.1-py3-none-any.whl.metadata (10 kB)\n",
      "Requirement already satisfied: numpy>=1.17.3 in /opt/.qbraid/environments/qbraid_000000/pyenv/lib/python3.11/site-packages (from h5py->tangelo-gc) (1.26.4)\n",
      "Requirement already satisfied: cirq-core~=1.0 in /opt/.qbraid/environments/qbraid_000000/pyenv/lib/python3.11/site-packages (from openfermion->tangelo-gc) (1.3.0)\n",
      "Collecting deprecation (from openfermion->tangelo-gc)\n",
      "  Using cached deprecation-2.1.0-py2.py3-none-any.whl.metadata (4.6 kB)\n",
      "Requirement already satisfied: networkx in /opt/.qbraid/environments/qbraid_000000/pyenv/lib/python3.11/site-packages (from openfermion->tangelo-gc) (3.2.1)\n",
      "Collecting pubchempy (from openfermion->tangelo-gc)\n",
      "  Using cached PubChemPy-1.0.4-py3-none-any.whl\n",
      "Requirement already satisfied: requests>=2.18 in /opt/.qbraid/environments/qbraid_000000/pyenv/lib/python3.11/site-packages (from openfermion->tangelo-gc) (2.31.0)\n",
      "Requirement already satisfied: scipy>=1.1.0 in /opt/.qbraid/environments/qbraid_000000/pyenv/lib/python3.11/site-packages (from openfermion->tangelo-gc) (1.13.0)\n",
      "Requirement already satisfied: sympy in /opt/.qbraid/environments/qbraid_000000/pyenv/lib/python3.11/site-packages (from openfermion->tangelo-gc) (1.12)\n",
      "Requirement already satisfied: duet~=0.2.8 in /opt/.qbraid/environments/qbraid_000000/pyenv/lib/python3.11/site-packages (from cirq-core~=1.0->openfermion->tangelo-gc) (0.2.9)\n",
      "Requirement already satisfied: matplotlib~=3.0 in /opt/.qbraid/environments/qbraid_000000/pyenv/lib/python3.11/site-packages (from cirq-core~=1.0->openfermion->tangelo-gc) (3.8.4)\n",
      "Requirement already satisfied: pandas in /opt/.qbraid/environments/qbraid_000000/pyenv/lib/python3.11/site-packages (from cirq-core~=1.0->openfermion->tangelo-gc) (2.2.1)\n",
      "Requirement already satisfied: sortedcontainers~=2.0 in /opt/.qbraid/environments/qbraid_000000/pyenv/lib/python3.11/site-packages (from cirq-core~=1.0->openfermion->tangelo-gc) (2.4.0)\n",
      "Requirement already satisfied: typing-extensions>=4.2 in /opt/.qbraid/environments/qbraid_000000/pyenv/lib/python3.11/site-packages (from cirq-core~=1.0->openfermion->tangelo-gc) (4.10.0)\n",
      "Requirement already satisfied: tqdm in /opt/.qbraid/environments/qbraid_000000/pyenv/lib/python3.11/site-packages (from cirq-core~=1.0->openfermion->tangelo-gc) (4.66.2)\n",
      "Requirement already satisfied: charset-normalizer<4,>=2 in /opt/.qbraid/environments/qbraid_000000/pyenv/lib/python3.11/site-packages (from requests>=2.18->openfermion->tangelo-gc) (3.3.2)\n",
      "Requirement already satisfied: idna<4,>=2.5 in /opt/.qbraid/environments/qbraid_000000/pyenv/lib/python3.11/site-packages (from requests>=2.18->openfermion->tangelo-gc) (3.6)\n",
      "Requirement already satisfied: urllib3<3,>=1.21.1 in /opt/.qbraid/environments/qbraid_000000/pyenv/lib/python3.11/site-packages (from requests>=2.18->openfermion->tangelo-gc) (2.2.1)\n",
      "Requirement already satisfied: certifi>=2017.4.17 in /opt/.qbraid/environments/qbraid_000000/pyenv/lib/python3.11/site-packages (from requests>=2.18->openfermion->tangelo-gc) (2024.2.2)\n",
      "Requirement already satisfied: packaging in /opt/.qbraid/environments/qbraid_000000/pyenv/lib/python3.11/site-packages (from deprecation->openfermion->tangelo-gc) (23.2)\n",
      "Requirement already satisfied: mpmath>=0.19 in /opt/.qbraid/environments/qbraid_000000/pyenv/lib/python3.11/site-packages (from sympy->openfermion->tangelo-gc) (1.3.0)\n",
      "Requirement already satisfied: contourpy>=1.0.1 in /opt/.qbraid/environments/qbraid_000000/pyenv/lib/python3.11/site-packages (from matplotlib~=3.0->cirq-core~=1.0->openfermion->tangelo-gc) (1.2.1)\n",
      "Requirement already satisfied: cycler>=0.10 in /opt/.qbraid/environments/qbraid_000000/pyenv/lib/python3.11/site-packages (from matplotlib~=3.0->cirq-core~=1.0->openfermion->tangelo-gc) (0.12.1)\n",
      "Requirement already satisfied: fonttools>=4.22.0 in /opt/.qbraid/environments/qbraid_000000/pyenv/lib/python3.11/site-packages (from matplotlib~=3.0->cirq-core~=1.0->openfermion->tangelo-gc) (4.50.0)\n",
      "Requirement already satisfied: kiwisolver>=1.3.1 in /opt/.qbraid/environments/qbraid_000000/pyenv/lib/python3.11/site-packages (from matplotlib~=3.0->cirq-core~=1.0->openfermion->tangelo-gc) (1.4.5)\n",
      "Requirement already satisfied: pillow>=8 in /opt/.qbraid/environments/qbraid_000000/pyenv/lib/python3.11/site-packages (from matplotlib~=3.0->cirq-core~=1.0->openfermion->tangelo-gc) (10.3.0)\n",
      "Requirement already satisfied: pyparsing>=2.3.1 in /opt/.qbraid/environments/qbraid_000000/pyenv/lib/python3.11/site-packages (from matplotlib~=3.0->cirq-core~=1.0->openfermion->tangelo-gc) (3.1.2)\n",
      "Requirement already satisfied: python-dateutil>=2.7 in /opt/.qbraid/environments/qbraid_000000/pyenv/lib/python3.11/site-packages (from matplotlib~=3.0->cirq-core~=1.0->openfermion->tangelo-gc) (2.9.0.post0)\n",
      "Requirement already satisfied: pytz>=2020.1 in /opt/.qbraid/environments/qbraid_000000/pyenv/lib/python3.11/site-packages (from pandas->cirq-core~=1.0->openfermion->tangelo-gc) (2024.1)\n",
      "Requirement already satisfied: tzdata>=2022.7 in /opt/.qbraid/environments/qbraid_000000/pyenv/lib/python3.11/site-packages (from pandas->cirq-core~=1.0->openfermion->tangelo-gc) (2024.1)\n",
      "Requirement already satisfied: six>=1.5 in /opt/.qbraid/environments/qbraid_000000/pyenv/lib/python3.11/site-packages (from python-dateutil>=2.7->matplotlib~=3.0->cirq-core~=1.0->openfermion->tangelo-gc) (1.16.0)\n",
      "Using cached tangelo_gc-0.4.2-py3-none-any.whl (598 kB)\n",
      "Using cached bitarray-2.9.2-cp311-cp311-manylinux_2_17_x86_64.manylinux2014_x86_64.whl (296 kB)\n",
      "Using cached h5py-3.11.0-cp311-cp311-manylinux_2_17_x86_64.manylinux2014_x86_64.whl (5.4 MB)\n",
      "Using cached openfermion-1.6.1-py3-none-any.whl (1.2 MB)\n",
      "Using cached deprecation-2.1.0-py2.py3-none-any.whl (11 kB)\n",
      "Installing collected packages: pubchempy, bitarray, h5py, deprecation, openfermion, tangelo-gc\n",
      "Successfully installed bitarray-2.9.2 deprecation-2.1.0 h5py-3.11.0 openfermion-1.6.1 pubchempy-1.0.4 tangelo-gc-0.4.2\n",
      "Note: you may need to restart the kernel to use updated packages.\n"
     ]
    }
   ],
   "source": [
    "pip install tangelo-gc"
   ]
  },
  {
   "cell_type": "code",
   "execution_count": 2,
   "id": "e5cce76b-9a57-45fe-bfc0-5c118fc7eed5",
   "metadata": {
    "tags": []
   },
   "outputs": [
    {
     "name": "stdout",
     "output_type": "stream",
     "text": [
      "Collecting tangelo\n",
      "  Using cached tangelo-0.10.0.tar.gz (2.5 MB)\n",
      "  Preparing metadata (setup.py) ... \u001b[?25lerror\n",
      "  \u001b[1;31merror\u001b[0m: \u001b[1msubprocess-exited-with-error\u001b[0m\n",
      "  \n",
      "  \u001b[31m×\u001b[0m \u001b[32mpython setup.py egg_info\u001b[0m did not run successfully.\n",
      "  \u001b[31m│\u001b[0m exit code: \u001b[1;36m1\u001b[0m\n",
      "  \u001b[31m╰─>\u001b[0m \u001b[31m[8 lines of output]\u001b[0m\n",
      "  \u001b[31m   \u001b[0m Traceback (most recent call last):\n",
      "  \u001b[31m   \u001b[0m   File \"<string>\", line 2, in <module>\n",
      "  \u001b[31m   \u001b[0m   File \"<pip-setuptools-caller>\", line 34, in <module>\n",
      "  \u001b[31m   \u001b[0m   File \"/tmp/pip-install-_jn1vx0f/tangelo_90dd5d5eba0440a28cd7c89088d590cd/setup.py\", line 24, in <module>\n",
      "  \u001b[31m   \u001b[0m     package_data={\"tangelo\": rcollect(\"tangelo/pkgdata\")},\n",
      "  \u001b[31m   \u001b[0m   File \"/tmp/pip-install-_jn1vx0f/tangelo_90dd5d5eba0440a28cd7c89088d590cd/setup.py\", line 8, in rcollect\n",
      "  \u001b[31m   \u001b[0m     return sum(map(lambda x: map(lambda y: x[0] + \"/\" + y, x[2]), os.walk(path)), [])\n",
      "  \u001b[31m   \u001b[0m TypeError: can only concatenate list (not \"map\") to list\n",
      "  \u001b[31m   \u001b[0m \u001b[31m[end of output]\u001b[0m\n",
      "  \n",
      "  \u001b[1;35mnote\u001b[0m: This error originates from a subprocess, and is likely not a problem with pip.\n",
      "\u001b[1;31merror\u001b[0m: \u001b[1mmetadata-generation-failed\u001b[0m\n",
      "\n",
      "\u001b[31m×\u001b[0m Encountered error while generating package metadata.\n",
      "\u001b[31m╰─>\u001b[0m See above for output.\n",
      "\n",
      "\u001b[1;35mnote\u001b[0m: This is an issue with the package mentioned above, not pip.\n",
      "\u001b[1;36mhint\u001b[0m: See above for details.\n",
      "\u001b[?25h"
     ]
    }
   ],
   "source": [
    "try:\n",
    "    import os\n",
    "except ImportError:\n",
    "    print (\"os error\")\n",
    "    \n",
    "!pip install tangelo"
   ]
  },
  {
   "cell_type": "code",
   "execution_count": 3,
   "id": "3d2073b0-aac2-4cb1-855b-c7a7a504106b",
   "metadata": {
    "tags": []
   },
   "outputs": [
    {
     "name": "stdout",
     "output_type": "stream",
     "text": [
      "Collecting PySCF\n",
      "  Using cached pyscf-2.5.0-py3-none-manylinux_2_17_x86_64.manylinux2014_x86_64.whl.metadata (3.1 kB)\n",
      "Requirement already satisfied: numpy!=1.16,!=1.17,>=1.13 in /opt/.qbraid/environments/qbraid_000000/pyenv/lib/python3.11/site-packages (from PySCF) (1.26.4)\n",
      "Requirement already satisfied: scipy!=1.5.0,!=1.5.1 in /opt/.qbraid/environments/qbraid_000000/pyenv/lib/python3.11/site-packages (from PySCF) (1.13.0)\n",
      "Requirement already satisfied: h5py>=2.7 in /opt/.qbraid/environments/qbraid_000000/pyenv/lib/python3.11/site-packages (from PySCF) (3.11.0)\n",
      "Requirement already satisfied: setuptools in /opt/.qbraid/environments/qbraid_000000/pyenv/lib/python3.11/site-packages (from PySCF) (65.5.0)\n",
      "Using cached pyscf-2.5.0-py3-none-manylinux_2_17_x86_64.manylinux2014_x86_64.whl (47.3 MB)\n",
      "Installing collected packages: PySCF\n",
      "Successfully installed PySCF-2.5.0\n",
      "Note: you may need to restart the kernel to use updated packages.\n"
     ]
    }
   ],
   "source": [
    "pip install PySCF"
   ]
  },
  {
   "cell_type": "code",
   "execution_count": 4,
   "id": "688a1699-2004-451c-8061-aec1a8cbaeb2",
   "metadata": {
    "tags": []
   },
   "outputs": [],
   "source": [
    "from tangelo import SecondQuantizedMolecule as SQMol\n",
    "\n",
    "\n",
    "# cooh = ?????\n",
    "li2=  \"\"\"Li 0.  0. 0.\n",
    "         Li 3.0 0. 0. \"\"\"\n",
    "\n",
    "# 2 electrons in 2 orbitals\n",
    "fo = [0,1]+[i for i in range(4,28)]\n",
    "\n",
    "# Runs RHF calculation\n",
    "mol_Li2 = SQMol(li2, q=0, spin=0, basis='6-31g(d,p)', frozen_orbitals=fo, symmetry=True)\n",
    "\n",
    "# Runs ROHF calculation\n",
    "mol_Li2_t = SQMol(li2, q=0, spin=2, basis=\"6-31g(d,p)\", frozen_orbitals=fo, symmetry=True)"
   ]
  },
  {
   "cell_type": "code",
   "execution_count": 5,
   "id": "84542a24-d01d-4151-ab39-31e92b87b278",
   "metadata": {},
   "outputs": [
    {
     "name": "stdout",
     "output_type": "stream",
     "text": [
      "  #  Energy  Symm Occ\n",
      "  1  -2.4479  A1g   2\n",
      "  2  -2.4478  A1u   2\n",
      "  3  -0.1716  A1g   2\n",
      "  4   0.0129  A1u   0\n",
      "Number of active electrons: 2\n",
      "Number of active orbtials: 2\n"
     ]
    }
   ],
   "source": [
    "# Symmetry labels and occupations for frozen core and active orbitals\n",
    "print(\"  #  Energy  Symm Occ\")\n",
    "for i in range(4):\n",
    "    print(f\"{i+1:3d}{mol_Li2.mo_energies[i]: 9.4f}  {mol_Li2.mo_symm_labels[i]}   {int(mol_Li2.mo_occ[i])}\")\n",
    "\n",
    "# Active electrons, Active orbitals\n",
    "print(f\"Number of active electrons: {mol_Li2.n_active_electrons}\")\n",
    "print(f\"Number of active orbtials: {mol_Li2.n_active_mos}\")"
   ]
  },
  {
   "cell_type": "markdown",
   "id": "67a6405e-d250-497c-909a-bcbdc3997161",
   "metadata": {},
   "source": [
    "###Understanding the VQE Solver "
   ]
  },
  {
   "cell_type": "code",
   "execution_count": 6,
   "id": "76ed7e04-6594-40d2-9ae3-d6f3e15d08ce",
   "metadata": {},
   "outputs": [
    {
     "name": "stdout",
     "output_type": "stream",
     "text": [
      "\n",
      " Ground Singlet state\n",
      "VQE energy = -14.869620361804408\n",
      "CASCI energy = -14.869620362826856\n",
      "\n",
      " Lowest Triplet state\n",
      "VQE energy = -14.853462489027226\n",
      "CASCI energy = -14.853462489027095\n"
     ]
    }
   ],
   "source": [
    "from tangelo.algorithms.variational import VQESolver, BuiltInAnsatze\n",
    "from tangelo.algorithms.classical import FCISolver\n",
    "\n",
    "# Dictionary of resources for each algorithm\n",
    "algorithm_resources = dict()\n",
    "\n",
    "# Ground state energy calculation with VQE, reference values with FCI\n",
    "vqe_options = {\"molecule\": mol_Li2, \"ansatz\": BuiltInAnsatze.UCCSD}\n",
    "vqe_solver = VQESolver(vqe_options)\n",
    "vqe_solver.build()\n",
    "vqe_energy = vqe_solver.simulate()\n",
    "print(\"\\n Ground Singlet state\")\n",
    "print(f\"VQE energy = {vqe_energy}\")\n",
    "print(f\"CASCI energy = {FCISolver(mol_Li2).simulate()}\")\n",
    "algorithm_resources[\"vqe_ground_state\"] = vqe_solver.get_resources()\n",
    "\n",
    "# First excited state energy calculation with VQE, reference values with FCI\n",
    "vqe_options = {\"molecule\": mol_Li2_t, \"ansatz\": BuiltInAnsatze.UpCCGSD}\n",
    "vqe_solver_t = VQESolver(vqe_options)\n",
    "vqe_solver_t.build()\n",
    "vqe_energy_t = vqe_solver_t.simulate()\n",
    "print(\"\\n Lowest Triplet state\")\n",
    "print(f\"VQE energy = {vqe_energy_t}\")\n",
    "print(f\"CASCI energy = {FCISolver(mol_Li2_t).simulate()}\")\n",
    "algorithm_resources[\"vqe_triplet_state\"] = vqe_solver_t.get_resources()\n",
    "\n",
    "#stor ground state fo rlater\n",
    "ground_vqe = vqe_energy"
   ]
  },
  {
   "cell_type": "code",
   "execution_count": 7,
   "id": "edab2eaa-2a9f-4626-901f-61b11e7f1615",
   "metadata": {
    "tags": []
   },
   "outputs": [
    {
     "name": "stdout",
     "output_type": "stream",
     "text": [
      "Energy difference is: 3.522416265425641e-20\n",
      "frequency is: 53160523172738.32\n",
      "wavelength is: 5.639381257138173e-06\n"
     ]
    }
   ],
   "source": [
    "energy_diff = (vqe_energy_t-vqe_energy)\n",
    "# convert to joules\n",
    "energy_diff = -energy_diff*(-2.18*10**-18)\n",
    "print(\"Energy difference is:\", energy_diff)\n",
    "h = 6.626*10**-34\n",
    "v = energy_diff/h\n",
    "print(\"frequency is:\", v)\n",
    "c = 299792458\n",
    "w = c/v\n",
    "print(\"wavelength is:\", w)"
   ]
  },
  {
   "cell_type": "code",
   "execution_count": 8,
   "id": "16c1cbb6-e897-470a-a693-798a613789c5",
   "metadata": {
    "tags": []
   },
   "outputs": [
    {
     "name": "stdout",
     "output_type": "stream",
     "text": [
      "Excited state #1 \t VQE energy = -14.784036828633347\n",
      "Excited state #2 \t VQE energy = -14.6801963328278\n",
      "Excited state #3 \t VQE energy = -14.469625901056558\n"
     ]
    }
   ],
   "source": [
    "#Getting next excited states\n",
    "# Add initial VQE optimal circuit to the deflation circuits list\n",
    "deflation_circuits = [vqe_solver.optimal_circuit.copy()]\n",
    "\n",
    "# Calculate first and second excited states by adding optimal circuits to deflation_circuits\n",
    "dict_vqe = {}\n",
    "for i in range(3):\n",
    "    vqe_options = {\"molecule\": mol_Li2, \"ansatz\": BuiltInAnsatze.UpCCGSD, \n",
    "                   \"deflation_circuits\": deflation_circuits, \"deflation_coeff\": 0.4}\n",
    "    vqe_solver = VQESolver(vqe_options)\n",
    "    vqe_solver.build()\n",
    "    vqe_energy = vqe_solver.simulate()\n",
    "    print(f\"Excited state #{i+1} \\t VQE energy = {vqe_energy}\")\n",
    "    algorithm_resources[f\"vqe_deflation_state_{i+1}\"] = vqe_solver.get_resources()\n",
    "    dict_vqe[i+1] =  vqe_energy\n",
    "    deflation_circuits.append(vqe_solver.optimal_circuit.copy())"
   ]
  },
  {
   "cell_type": "code",
   "execution_count": 9,
   "id": "c0289a0b-333d-4011-a6a0-c05f76b81fb9",
   "metadata": {
    "tags": []
   },
   "outputs": [
    {
     "name": "stdout",
     "output_type": "stream",
     "text": [
      "Our different energy differences (J) are: {1: [-1.865721023129175e-19], 2: [-2.2637228085609394e-19, -4.129443831690091e-19], 3: [-6.854158221174006e-19, -4.590435412613067e-19, -8.71987924430317e-19]}\n",
      "Our corresponding frequencies (Hz) are: {1: [53160523172738.32], 2: [53160523172738.32, 53160523172738.32], 3: [53160523172738.32, 53160523172738.32, 53160523172738.32]}\n",
      "Our corresponding wavelengths (m) are: {1: [5.639381257138173e-06], 2: [5.639381257138173e-06, 5.639381257138173e-06], 3: [5.639381257138173e-06, 5.639381257138173e-06, 5.639381257138173e-06]}\n"
     ]
    }
   ],
   "source": [
    "# initiailizing dictionaries\n",
    "dict_diff_vqe = {}\n",
    "vqe_frequencies = {}\n",
    "vqe_wavelengths = {}\n",
    "\n",
    "# for each level, difference between states, appending to list appending to dictionary\n",
    "# each corresponding label represents the nth energy state.\n",
    "for i in range(1,len(dict_vqe)+1):\n",
    "    list_diff_energy= []\n",
    "    for j in range(1,i):\n",
    "        list_diff_energy.append((dict_vqe[i] - dict_vqe[j])*(-2.18*10**-18))\n",
    "    # remember that ground_vqe holds the ground state.\n",
    "    list_diff_energy.append(dict_vqe[i]*(-2.18*10**-18) - ground_vqe*(-2.18*10**-18))\n",
    "    dict_diff_vqe[i] = list_diff_energy\n",
    "print(\"Our different energy differences (J) are:\", dict_diff_vqe) #converting to J\n",
    "\n",
    "\n",
    "# for key, value in dict_diff_vqe.items():\n",
    "#     vqe_frequencies[key] = [freq * 5 for freq in value]\n",
    "# print(vqe_frequencies) \n",
    "\n",
    "def find_v_and_w(value):\n",
    "    h = 6.626*10**-34\n",
    "    v = energy_diff/h\n",
    "    c = 299792458\n",
    "    w = c/v\n",
    "    return v, w\n",
    "\n",
    "for key, value in dict_diff_vqe.items():\n",
    "    for freq in value:\n",
    "        vqe_frequencies.setdefault(key, []).append(find_v_and_w(freq)[0])\n",
    "        vqe_wavelengths.setdefault(key, []).append(find_v_and_w(freq)[1])\n",
    "    \n",
    "print(\"Our corresponding frequencies (Hz) are:\", vqe_frequencies)\n",
    "print(\"Our corresponding wavelengths (m) are:\", vqe_wavelengths)"
   ]
  },
  {
   "cell_type": "code",
   "execution_count": 10,
   "id": "13f82da9-08a8-4fc8-b94c-6e94ad1c6c18",
   "metadata": {},
   "outputs": [],
   "source": [
    "# Let's try to \"freeze\" electron orbitals for our new molecules"
   ]
  },
  {
   "cell_type": "code",
   "execution_count": 11,
   "id": "cabb5e5c-43c4-4120-aecb-15c3dff2f0d7",
   "metadata": {
    "tags": []
   },
   "outputs": [
    {
     "name": "stdout",
     "output_type": "stream",
     "text": [
      "8 active molecular orbitals\n",
      "12 active electrons\n",
      "34 active molecular orbitals\n",
      "12 active electrons\n"
     ]
    }
   ],
   "source": [
    "# cooh = ?????\n",
    "\n",
    "# diatomic oxygen\n",
    "o2_xyz = [(\"O\", (0., 0., 0.)), (\"O\", (0., 0., 1.21))]\n",
    "\n",
    "##########################\n",
    "\n",
    "from tangelo import SecondQuantizedMolecule\n",
    "o2_6311gdp = SecondQuantizedMolecule(o2_xyz, q=0, spin=2)\n",
    "print(f\"{o2_6311gdp.n_active_mos} active molecular orbitals\")\n",
    "print(f\"{o2_6311gdp.n_active_electrons} active electrons\")\n",
    "\n",
    "##########################\n",
    "\n",
    "basis_sets = [\n",
    "    \"STO-3G\",       # Simple zeta, minimal basis.\n",
    "    \"3-21G\",        # Double zeta.\n",
    "    \"6-31G\",        # Double zeta with more Gaussian primitives.\n",
    "    \"6-31G(d,p)\",   # Polarization functions (+ 5 d-orbitals for all atoms except H, +3 p-orbitals for H atoms) added.\n",
    "    \"6-311G(d,p)\",  # Triple zeta with polarization functions.\n",
    "    \"6-311+G(d,p)\", # Triple zeta with polarization functions and diffuse functions.\n",
    "    \"cc-pvqz\",      # Quadruple zeta.\n",
    "    \"cc-pv5z\"       # Quintuple zeta.\n",
    "]\n",
    "\n",
    "###\n",
    "o2_6311gdp.mo_occ\n",
    "###\n",
    "from tangelo.toolboxes.molecular_computation.frozen_orbitals import get_orbitals_excluding_homo_lumo\n",
    "\n",
    "# Selecting HOMO-3 to LUMO+3 orbitals.\n",
    "frozen = get_orbitals_excluding_homo_lumo(o2_6311gdp, homo_minus_n=6, lumo_plus_n=5)\n",
    "\n",
    "o2_6311gdp_frozen = SecondQuantizedMolecule(o2_xyz, q=0, spin=2,\n",
    "                                            basis=\"6-311G(d,p)\",\n",
    "                                            frozen_orbitals=frozen)\n",
    "print(f\"{o2_6311gdp_frozen.n_active_mos} active molecular orbitals\")\n",
    "print(f\"{o2_6311gdp_frozen.n_active_electrons} active electrons\")\n",
    "###\n",
    "\n",
    "##########################\n",
    "\n",
    "# o2_6311gdp = SecondQuantizedMolecule(o2_xyz, q=0, spin=2,\n",
    "#                                      basis=\"6-311G(d,p)\", \n",
    "#                                      frozen_orbitals=None)\n",
    "# print(f\"{o2_6311gdp.n_active_mos} active molecular orbitals\")\n",
    "# print(f\"{o2_6311gdp.n_active_electrons} active electrons\")\n",
    "\n",
    "# # Runs RHF calculation\n",
    "# mol_O2 = SQMol(o2, q=0, spin=0, basis='6-31g(d,p)', frozen_orbitals=fo, symmetry=True)\n",
    "\n",
    "# # Runs ROHF calculation\n",
    "# mol_O2_t = SQMol(o2, q=0, spin=2, basis=\"6-31g(d,p)\", frozen_orbitals=fo, symmetry=True)"
   ]
  },
  {
   "cell_type": "code",
   "execution_count": null,
   "id": "f3376241-aa46-4afe-9da0-eae6091be5f3",
   "metadata": {},
   "outputs": [],
   "source": []
  }
 ],
 "metadata": {
  "kernelspec": {
   "display_name": "Python 3 [Default]",
   "language": "python",
   "name": "python3"
  },
  "language_info": {
   "codemirror_mode": {
    "name": "ipython",
    "version": 3
   },
   "file_extension": ".py",
   "mimetype": "text/x-python",
   "name": "python",
   "nbconvert_exporter": "python",
   "pygments_lexer": "ipython3",
   "version": "3.11.8"
  }
 },
 "nbformat": 4,
 "nbformat_minor": 5
}
