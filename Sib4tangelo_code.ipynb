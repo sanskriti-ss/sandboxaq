{
 "cells": [
  {
   "cell_type": "code",
   "execution_count": 2,
   "id": "75401d2b-993c-4848-9538-669b0b2cf3fa",
   "metadata": {
    "tags": []
   },
   "outputs": [],
   "source": [
    "try:\n",
    "    import tangelo\n",
    "except ImportError:\n",
    "    !pip install git+https://github.com/goodchemistryco/Tangelo.git@develop --quiet\n",
    "    !pip install pyscf --quiet"
   ]
  },
  {
   "cell_type": "code",
   "execution_count": 3,
   "id": "9381540b-be91-4410-a0da-00ee20b204ef",
   "metadata": {
    "tags": []
   },
   "outputs": [
    {
     "name": "stdout",
     "output_type": "stream",
     "text": [
      "Collecting tangelo-gc\n",
      "  Using cached tangelo_gc-0.4.2-py3-none-any.whl.metadata (912 bytes)\n",
      "Collecting h5py (from tangelo-gc)\n",
      "  Using cached h5py-3.11.0-cp311-cp311-manylinux_2_17_x86_64.manylinux2014_x86_64.whl.metadata (2.5 kB)\n",
      "Collecting bitarray (from tangelo-gc)\n",
      "  Using cached bitarray-2.9.2-cp311-cp311-manylinux_2_17_x86_64.manylinux2014_x86_64.whl.metadata (34 kB)\n",
      "Collecting openfermion (from tangelo-gc)\n",
      "  Using cached openfermion-1.6.1-py3-none-any.whl.metadata (10 kB)\n",
      "Requirement already satisfied: numpy>=1.17.3 in /opt/.qbraid/environments/qbraid_000000/pyenv/lib/python3.11/site-packages (from h5py->tangelo-gc) (1.26.4)\n",
      "Requirement already satisfied: cirq-core~=1.0 in /opt/.qbraid/environments/qbraid_000000/pyenv/lib/python3.11/site-packages (from openfermion->tangelo-gc) (1.3.0)\n",
      "Collecting deprecation (from openfermion->tangelo-gc)\n",
      "  Using cached deprecation-2.1.0-py2.py3-none-any.whl.metadata (4.6 kB)\n",
      "Requirement already satisfied: networkx in /opt/.qbraid/environments/qbraid_000000/pyenv/lib/python3.11/site-packages (from openfermion->tangelo-gc) (3.2.1)\n",
      "Collecting pubchempy (from openfermion->tangelo-gc)\n",
      "  Using cached PubChemPy-1.0.4-py3-none-any.whl\n",
      "Requirement already satisfied: requests>=2.18 in /opt/.qbraid/environments/qbraid_000000/pyenv/lib/python3.11/site-packages (from openfermion->tangelo-gc) (2.31.0)\n",
      "Requirement already satisfied: scipy>=1.1.0 in /opt/.qbraid/environments/qbraid_000000/pyenv/lib/python3.11/site-packages (from openfermion->tangelo-gc) (1.13.0)\n",
      "Requirement already satisfied: sympy in /opt/.qbraid/environments/qbraid_000000/pyenv/lib/python3.11/site-packages (from openfermion->tangelo-gc) (1.12)\n",
      "Requirement already satisfied: duet~=0.2.8 in /opt/.qbraid/environments/qbraid_000000/pyenv/lib/python3.11/site-packages (from cirq-core~=1.0->openfermion->tangelo-gc) (0.2.9)\n",
      "Requirement already satisfied: matplotlib~=3.0 in /opt/.qbraid/environments/qbraid_000000/pyenv/lib/python3.11/site-packages (from cirq-core~=1.0->openfermion->tangelo-gc) (3.8.4)\n",
      "Requirement already satisfied: pandas in /opt/.qbraid/environments/qbraid_000000/pyenv/lib/python3.11/site-packages (from cirq-core~=1.0->openfermion->tangelo-gc) (2.2.1)\n",
      "Requirement already satisfied: sortedcontainers~=2.0 in /opt/.qbraid/environments/qbraid_000000/pyenv/lib/python3.11/site-packages (from cirq-core~=1.0->openfermion->tangelo-gc) (2.4.0)\n",
      "Requirement already satisfied: typing-extensions>=4.2 in /opt/.qbraid/environments/qbraid_000000/pyenv/lib/python3.11/site-packages (from cirq-core~=1.0->openfermion->tangelo-gc) (4.10.0)\n",
      "Requirement already satisfied: tqdm in /opt/.qbraid/environments/qbraid_000000/pyenv/lib/python3.11/site-packages (from cirq-core~=1.0->openfermion->tangelo-gc) (4.66.2)\n",
      "Requirement already satisfied: charset-normalizer<4,>=2 in /opt/.qbraid/environments/qbraid_000000/pyenv/lib/python3.11/site-packages (from requests>=2.18->openfermion->tangelo-gc) (3.3.2)\n",
      "Requirement already satisfied: idna<4,>=2.5 in /opt/.qbraid/environments/qbraid_000000/pyenv/lib/python3.11/site-packages (from requests>=2.18->openfermion->tangelo-gc) (3.6)\n",
      "Requirement already satisfied: urllib3<3,>=1.21.1 in /opt/.qbraid/environments/qbraid_000000/pyenv/lib/python3.11/site-packages (from requests>=2.18->openfermion->tangelo-gc) (2.2.1)\n",
      "Requirement already satisfied: certifi>=2017.4.17 in /opt/.qbraid/environments/qbraid_000000/pyenv/lib/python3.11/site-packages (from requests>=2.18->openfermion->tangelo-gc) (2024.2.2)\n",
      "Requirement already satisfied: packaging in /opt/.qbraid/environments/qbraid_000000/pyenv/lib/python3.11/site-packages (from deprecation->openfermion->tangelo-gc) (23.2)\n",
      "Requirement already satisfied: mpmath>=0.19 in /opt/.qbraid/environments/qbraid_000000/pyenv/lib/python3.11/site-packages (from sympy->openfermion->tangelo-gc) (1.3.0)\n",
      "Requirement already satisfied: contourpy>=1.0.1 in /opt/.qbraid/environments/qbraid_000000/pyenv/lib/python3.11/site-packages (from matplotlib~=3.0->cirq-core~=1.0->openfermion->tangelo-gc) (1.2.1)\n",
      "Requirement already satisfied: cycler>=0.10 in /opt/.qbraid/environments/qbraid_000000/pyenv/lib/python3.11/site-packages (from matplotlib~=3.0->cirq-core~=1.0->openfermion->tangelo-gc) (0.12.1)\n",
      "Requirement already satisfied: fonttools>=4.22.0 in /opt/.qbraid/environments/qbraid_000000/pyenv/lib/python3.11/site-packages (from matplotlib~=3.0->cirq-core~=1.0->openfermion->tangelo-gc) (4.50.0)\n",
      "Requirement already satisfied: kiwisolver>=1.3.1 in /opt/.qbraid/environments/qbraid_000000/pyenv/lib/python3.11/site-packages (from matplotlib~=3.0->cirq-core~=1.0->openfermion->tangelo-gc) (1.4.5)\n",
      "Requirement already satisfied: pillow>=8 in /opt/.qbraid/environments/qbraid_000000/pyenv/lib/python3.11/site-packages (from matplotlib~=3.0->cirq-core~=1.0->openfermion->tangelo-gc) (10.3.0)\n",
      "Requirement already satisfied: pyparsing>=2.3.1 in /opt/.qbraid/environments/qbraid_000000/pyenv/lib/python3.11/site-packages (from matplotlib~=3.0->cirq-core~=1.0->openfermion->tangelo-gc) (3.1.2)\n",
      "Requirement already satisfied: python-dateutil>=2.7 in /opt/.qbraid/environments/qbraid_000000/pyenv/lib/python3.11/site-packages (from matplotlib~=3.0->cirq-core~=1.0->openfermion->tangelo-gc) (2.9.0.post0)\n",
      "Requirement already satisfied: pytz>=2020.1 in /opt/.qbraid/environments/qbraid_000000/pyenv/lib/python3.11/site-packages (from pandas->cirq-core~=1.0->openfermion->tangelo-gc) (2024.1)\n",
      "Requirement already satisfied: tzdata>=2022.7 in /opt/.qbraid/environments/qbraid_000000/pyenv/lib/python3.11/site-packages (from pandas->cirq-core~=1.0->openfermion->tangelo-gc) (2024.1)\n",
      "Requirement already satisfied: six>=1.5 in /opt/.qbraid/environments/qbraid_000000/pyenv/lib/python3.11/site-packages (from python-dateutil>=2.7->matplotlib~=3.0->cirq-core~=1.0->openfermion->tangelo-gc) (1.16.0)\n",
      "Using cached tangelo_gc-0.4.2-py3-none-any.whl (598 kB)\n",
      "Using cached bitarray-2.9.2-cp311-cp311-manylinux_2_17_x86_64.manylinux2014_x86_64.whl (296 kB)\n",
      "Using cached h5py-3.11.0-cp311-cp311-manylinux_2_17_x86_64.manylinux2014_x86_64.whl (5.4 MB)\n",
      "Using cached openfermion-1.6.1-py3-none-any.whl (1.2 MB)\n",
      "Using cached deprecation-2.1.0-py2.py3-none-any.whl (11 kB)\n",
      "Installing collected packages: pubchempy, bitarray, h5py, deprecation, openfermion, tangelo-gc\n",
      "Successfully installed bitarray-2.9.2 deprecation-2.1.0 h5py-3.11.0 openfermion-1.6.1 pubchempy-1.0.4 tangelo-gc-0.4.2\n",
      "Note: you may need to restart the kernel to use updated packages.\n"
     ]
    }
   ],
   "source": [
    "pip install tangelo-gc"
   ]
  },
  {
   "cell_type": "code",
   "execution_count": 4,
   "id": "0c0c9e0d-6055-4f92-aabc-0432500e1377",
   "metadata": {
    "tags": []
   },
   "outputs": [
    {
     "name": "stdout",
     "output_type": "stream",
     "text": [
      "Collecting pyscf\n",
      "  Using cached pyscf-2.5.0-py3-none-manylinux_2_17_x86_64.manylinux2014_x86_64.whl.metadata (3.1 kB)\n",
      "Requirement already satisfied: numpy!=1.16,!=1.17,>=1.13 in /opt/.qbraid/environments/qbraid_000000/pyenv/lib/python3.11/site-packages (from pyscf) (1.26.4)\n",
      "Requirement already satisfied: scipy!=1.5.0,!=1.5.1 in /opt/.qbraid/environments/qbraid_000000/pyenv/lib/python3.11/site-packages (from pyscf) (1.13.0)\n",
      "Requirement already satisfied: h5py>=2.7 in /opt/.qbraid/environments/qbraid_000000/pyenv/lib/python3.11/site-packages (from pyscf) (3.11.0)\n",
      "Requirement already satisfied: setuptools in /opt/.qbraid/environments/qbraid_000000/pyenv/lib/python3.11/site-packages (from pyscf) (65.5.0)\n",
      "Using cached pyscf-2.5.0-py3-none-manylinux_2_17_x86_64.manylinux2014_x86_64.whl (47.3 MB)\n",
      "Installing collected packages: pyscf\n",
      "Successfully installed pyscf-2.5.0\n",
      "Note: you may need to restart the kernel to use updated packages.\n"
     ]
    }
   ],
   "source": [
    "pip install pyscf"
   ]
  },
  {
   "cell_type": "code",
   "execution_count": 3,
   "id": "53d48a8d-3a1a-429e-9c5b-4b518339453f",
   "metadata": {
    "tags": []
   },
   "outputs": [],
   "source": [
    "from tangelo import SecondQuantizedMolecule as SQMol\n",
    "#o2_xyz = [(\"O\", (0., 0., 0.)), (\"O\", (0., 0., 1.21))]\n",
    "# cooh=  \"\"\"C 0.  0. 0.\n",
    "#          O 0. 1.21 0. \n",
    "#          O 1.3 0. 0.\n",
    "#          H 2.3 0. 0.\"\"\"\n",
    "\n",
    "# cooh = [(\"C\",(0.,0., 0.)),\n",
    "#         (\"O\",(0.,1.21, 0)),\n",
    "#         (\"O\",(1.3,0., 0)),\n",
    "#         (\"H\",(0.,0., 1.21)),\n",
    "#        ]\n",
    "\n",
    "\n",
    "sib4 = [(\"Si\",(0.,0., 0.)),\n",
    "        (\"B\",(0.,1.425, 0)),\n",
    "        (\"B\",(0,-1.425, 0)),\n",
    "        (\"B\",(1.425,0., 0.)),\n",
    "        (\"B\",(-1.425,0., 0.))\n",
    "       ]\n",
    "\n",
    "\n",
    "# cooh = [(\"Si\",(0.,0., 0.)),\n",
    "#         (\"N\",(0.,1.73, 0))]\n",
    "\n",
    "# 2 electrons in 2 orbitals\n",
    "#fo = [1,2,3,5]+[i for i in range(12,28)]\n",
    "#cooh_fo = [0,1,2,3,5,6,7] + [i for i in range(13,28)]\n",
    "sib4_f0 = [0,1,2,3,4,5,6,7,8,9,10,15] + [i for i in range(21,50)]\n",
    "# Runs RHF calculation\n",
    "mol_Li2 = SQMol(sib4, q=0, spin=2, basis='6-31g(d,p)',frozen_orbitals=sib4_f0 ,symmetry=True)\n",
    "\n",
    "# Runs ROHF calculation\n",
    "#mol_Li2_t = SQMol(cooh, q=0, basis=\"6-31g(d,p)\", frozen_orbitals=fo, symmetry=True)"
   ]
  },
  {
   "cell_type": "code",
   "execution_count": 4,
   "id": "dbd328f6-72ad-4cde-bd3e-b2e4374a054f",
   "metadata": {
    "tags": []
   },
   "outputs": [
    {
     "name": "stdout",
     "output_type": "stream",
     "text": [
      "SecondQuantizedMolecule(xyz=[('Si', (0.0, 0.0, 0.0)), ('B', (0.0, 1.425, 0.0)), ('B', (0.0, -1.425, 0.0)), ('B', (1.425, 0.0, 0.0)), ('B', (-1.425, 0.0, 0.0))], q=0, spin=2, solver=<tangelo.toolboxes.molecular_computation.integral_solver_pyscf.IntegralSolverPySCF object at 0x7e275beecc50>, n_atoms=5, n_electrons=34, basis='6-31g(d,p)', ecp={}, symmetry=True, uhf=False, mf_energy=-386.34076994383224, mo_energies=NPArrayWithTag([-6.86773759e+01, -7.69684002e+00, -7.69650542e+00,\n",
      "                -7.69650542e+00, -7.69612178e+00, -6.15779771e+00,\n",
      "                -4.26131823e+00, -4.26131823e+00, -4.24164389e+00,\n",
      "                -1.04225709e+00, -7.63588505e-01, -7.63588505e-01,\n",
      "                -4.81312488e-01, -4.47261674e-01, -3.52429598e-01,\n",
      "                -3.37540180e-01, -1.86324035e-01, -1.86324035e-01,\n",
      "                -2.46725233e-02, -2.46725233e-02,  1.31026887e-01,\n",
      "                 1.46275848e-01,  1.46275848e-01,  1.48307786e-01,\n",
      "                 1.60218624e-01,  2.47514436e-01,  2.72783608e-01,\n",
      "                 2.72783608e-01,  3.23269060e-01,  3.26964640e-01,\n",
      "                 4.41772441e-01,  4.51396734e-01,  4.78631380e-01,\n",
      "                 4.78631380e-01,  5.11323936e-01,  5.40955587e-01,\n",
      "                 5.40955587e-01,  6.25644483e-01,  6.62117787e-01,\n",
      "                 6.62117787e-01,  6.63225028e-01,  7.46969946e-01,\n",
      "                 7.97188398e-01,  8.64408569e-01,  9.21533553e-01,\n",
      "                 9.21533553e-01,  9.84522627e-01,  1.09704827e+00,\n",
      "                 1.09704827e+00,  1.10288221e+00,  1.23728791e+00,\n",
      "                 1.40046636e+00,  1.40046636e+00,  1.43307428e+00,\n",
      "                 1.47543454e+00,  1.47543454e+00,  1.58465639e+00,\n",
      "                 1.58465639e+00,  1.67006762e+00,  1.69975981e+00,\n",
      "                 1.75189547e+00,  1.76059437e+00,  1.78598798e+00,\n",
      "                 1.91277547e+00,  1.92040482e+00,  1.92040482e+00,\n",
      "                 2.15094977e+00,  2.15094977e+00,  2.15932858e+00,\n",
      "                 2.20687286e+00,  2.35207330e+00,  2.35207330e+00,\n",
      "                 2.90535463e+00,  3.31188841e+00]), mo_occ=array([2., 2., 2., 2., 2., 2., 2., 2., 2., 2., 2., 2., 2., 2., 2., 2., 1.,\n",
      "       1., 0., 0., 0., 0., 0., 0., 0., 0., 0., 0., 0., 0., 0., 0., 0., 0.,\n",
      "       0., 0., 0., 0., 0., 0., 0., 0., 0., 0., 0., 0., 0., 0., 0., 0., 0.,\n",
      "       0., 0., 0., 0., 0., 0., 0., 0., 0., 0., 0., 0., 0., 0., 0., 0., 0.,\n",
      "       0., 0., 0., 0., 0., 0.]), n_mos=74, n_sos=148, active_occupied=[11, 12, 13, 14, 16, 17], frozen_occupied=[0, 1, 2, 3, 4, 5, 6, 7, 8, 9, 10, 15], active_virtual=[18, 19, 20, 50, 51, 52, 53, 54, 55, 56, 57, 58, 59, 60, 61, 62, 63, 64, 65, 66, 67, 68, 69, 70, 71, 72, 73], frozen_virtual=[21, 22, 23, 24, 25, 26, 27, 28, 29, 30, 31, 32, 33, 34, 35, 36, 37, 38, 39, 40, 41, 42, 43, 44, 45, 46, 47, 48, 49])\n",
      "Number of active electrons: 10\n",
      "Number of active orbitals: 33\n"
     ]
    }
   ],
   "source": [
    "print(mol_Li2)\n",
    "\n",
    "# Active electrons, Active orbitals\n",
    "print(f\"Number of active electrons: {mol_Li2.n_active_electrons}\")\n",
    "print(f\"Number of active orbitals: {mol_Li2.n_active_mos}\")"
   ]
  },
  {
   "cell_type": "code",
   "execution_count": 5,
   "id": "86a7b89d-6a4c-4c37-827f-268503fcf55a",
   "metadata": {
    "tags": []
   },
   "outputs": [
    {
     "name": "stdout",
     "output_type": "stream",
     "text": [
      "  #  Energy  Symm Occ\n",
      "  1 -68.6774  Ag   2\n",
      "  2  -7.6968  Ag   2\n",
      "  3  -7.6965  B2u   2\n",
      "  4  -7.6965  B3u   2\n",
      "Number of active electrons: 10\n",
      "Number of active orbtials: 33\n"
     ]
    }
   ],
   "source": [
    "# Symmetry labels and occupations for frozen core and active orbitals\n",
    "print(\"  #  Energy  Symm Occ\")\n",
    "for i in range(4):\n",
    "    print(f\"{i+1:3d}{mol_Li2.mo_energies[i]: 9.4f}  {mol_Li2.mo_symm_labels[i]}   {int(mol_Li2.mo_occ[i])}\")\n",
    "\n",
    "# Active electrons, Active orbitals\n",
    "print(f\"Number of active electrons: {mol_Li2.n_active_electrons}\")\n",
    "print(f\"Number of active orbtials: {mol_Li2.n_active_mos}\")"
   ]
  },
  {
   "cell_type": "code",
   "execution_count": null,
   "id": "51f344cc-cfe4-432c-bfdd-54d0fd1f3e89",
   "metadata": {
    "tags": []
   },
   "outputs": [],
   "source": [
    "from tangelo.algorithms.variational import VQESolver, BuiltInAnsatze\n",
    "from tangelo.algorithms.classical import FCISolver\n",
    "\n",
    "# Dictionary of resources for each algorithm\n",
    "algorithm_resources = dict()\n",
    "\n",
    "# Ground state energy calculation with VQE, reference values with FCI\n",
    "vqe_options = {\"molecule\": mol_Li2, \"ansatz\": BuiltInAnsatze.UCCSD}\n",
    "vqe_solver = VQESolver(vqe_options)\n",
    "vqe_solver.build()\n",
    "vqe_energy = vqe_solver.simulate()\n",
    "print(\"\\n Ground Singlet state\")\n",
    "print(f\"VQE energy = {vqe_energy}\")\n",
    "print(f\"CASCI energy = {FCISolver(mol_Li2).simulate()}\")\n",
    "algorithm_resources[\"vqe_ground_state\"] = vqe_solver.get_resources()\n",
    "\n",
    "# First excited state energy calculation with VQE, reference values with FCI\n",
    "vqe_options = {\"molecule\": mol_Li2_t, \"ansatz\": BuiltInAnsatze.UpCCGSD}\n",
    "vqe_solver_t = VQESolver(vqe_options)\n",
    "vqe_solver_t.build()\n",
    "vqe_energy_t = vqe_solver_t.simulate()\n",
    "print(\"\\n Lowest Triplet state\")\n",
    "print(f\"VQE energy = {vqe_energy_t}\")\n",
    "print(f\"CASCI energy = {FCISolver(mol_Li2_t).simulate()}\")\n",
    "algorithm_resources[\"vqe_triplet_state\"] = vqe_solver_t.get_resources()\n",
    "\n",
    "#stor ground state fo rlater\n",
    "ground_vqe = vqe_energy"
   ]
  }
 ],
 "metadata": {
  "kernelspec": {
   "display_name": "Python 3 [Default]",
   "language": "python",
   "name": "python3"
  },
  "language_info": {
   "codemirror_mode": {
    "name": "ipython",
    "version": 3
   },
   "file_extension": ".py",
   "mimetype": "text/x-python",
   "name": "python",
   "nbconvert_exporter": "python",
   "pygments_lexer": "ipython3",
   "version": "3.11.8"
  }
 },
 "nbformat": 4,
 "nbformat_minor": 5
}
