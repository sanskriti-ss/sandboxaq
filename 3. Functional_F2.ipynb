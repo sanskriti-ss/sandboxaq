{
  "nbformat": 4,
  "nbformat_minor": 0,
  "metadata": {
    "colab": {
      "provenance": []
    },
    "kernelspec": {
      "name": "python3",
      "display_name": "Python 3"
    },
    "language_info": {
      "name": "python"
    }
  },
  "cells": [
    {
      "cell_type": "code",
      "execution_count": 2,
      "metadata": {
        "colab": {
          "base_uri": "https://localhost:8080/"
        },
        "id": "136DRtXQr36I",
        "outputId": "87beb493-ab9c-4b21-e026-f5947b20361f"
      },
      "outputs": [
        {
          "output_type": "stream",
          "name": "stdout",
          "text": [
            "Collecting tangelo-gc\n",
            "  Downloading tangelo_gc-0.4.2-py3-none-any.whl (598 kB)\n",
            "\u001b[2K     \u001b[90m━━━━━━━━━━━━━━━━━━━━━━━━━━━━━━━━━━━━━━━━\u001b[0m \u001b[32m598.9/598.9 kB\u001b[0m \u001b[31m3.6 MB/s\u001b[0m eta \u001b[36m0:00:00\u001b[0m\n",
            "\u001b[?25hRequirement already satisfied: h5py in /usr/local/lib/python3.10/dist-packages (from tangelo-gc) (3.9.0)\n",
            "Collecting bitarray (from tangelo-gc)\n",
            "  Downloading bitarray-2.9.2-cp310-cp310-manylinux_2_17_x86_64.manylinux2014_x86_64.whl (288 kB)\n",
            "\u001b[2K     \u001b[90m━━━━━━━━━━━━━━━━━━━━━━━━━━━━━━━━━━━━━━━━\u001b[0m \u001b[32m288.3/288.3 kB\u001b[0m \u001b[31m6.1 MB/s\u001b[0m eta \u001b[36m0:00:00\u001b[0m\n",
            "\u001b[?25hCollecting openfermion (from tangelo-gc)\n",
            "  Downloading openfermion-1.6.1-py3-none-any.whl (1.2 MB)\n",
            "\u001b[2K     \u001b[90m━━━━━━━━━━━━━━━━━━━━━━━━━━━━━━━━━━━━━━━━\u001b[0m \u001b[32m1.2/1.2 MB\u001b[0m \u001b[31m11.6 MB/s\u001b[0m eta \u001b[36m0:00:00\u001b[0m\n",
            "\u001b[?25hRequirement already satisfied: numpy>=1.17.3 in /usr/local/lib/python3.10/dist-packages (from h5py->tangelo-gc) (1.25.2)\n",
            "Collecting cirq-core~=1.0 (from openfermion->tangelo-gc)\n",
            "  Downloading cirq_core-1.3.0-py3-none-any.whl (1.8 MB)\n",
            "\u001b[2K     \u001b[90m━━━━━━━━━━━━━━━━━━━━━━━━━━━━━━━━━━━━━━━━\u001b[0m \u001b[32m1.8/1.8 MB\u001b[0m \u001b[31m14.7 MB/s\u001b[0m eta \u001b[36m0:00:00\u001b[0m\n",
            "\u001b[?25hCollecting deprecation (from openfermion->tangelo-gc)\n",
            "  Downloading deprecation-2.1.0-py2.py3-none-any.whl (11 kB)\n",
            "Requirement already satisfied: networkx in /usr/local/lib/python3.10/dist-packages (from openfermion->tangelo-gc) (3.3)\n",
            "Collecting pubchempy (from openfermion->tangelo-gc)\n",
            "  Downloading PubChemPy-1.0.4.tar.gz (29 kB)\n",
            "  Preparing metadata (setup.py) ... \u001b[?25l\u001b[?25hdone\n",
            "Requirement already satisfied: requests>=2.18 in /usr/local/lib/python3.10/dist-packages (from openfermion->tangelo-gc) (2.31.0)\n",
            "Requirement already satisfied: scipy>=1.1.0 in /usr/local/lib/python3.10/dist-packages (from openfermion->tangelo-gc) (1.11.4)\n",
            "Requirement already satisfied: sympy in /usr/local/lib/python3.10/dist-packages (from openfermion->tangelo-gc) (1.12)\n",
            "Collecting duet~=0.2.8 (from cirq-core~=1.0->openfermion->tangelo-gc)\n",
            "  Downloading duet-0.2.9-py3-none-any.whl (29 kB)\n",
            "Requirement already satisfied: matplotlib~=3.0 in /usr/local/lib/python3.10/dist-packages (from cirq-core~=1.0->openfermion->tangelo-gc) (3.7.1)\n",
            "Requirement already satisfied: pandas in /usr/local/lib/python3.10/dist-packages (from cirq-core~=1.0->openfermion->tangelo-gc) (2.0.3)\n",
            "Requirement already satisfied: sortedcontainers~=2.0 in /usr/local/lib/python3.10/dist-packages (from cirq-core~=1.0->openfermion->tangelo-gc) (2.4.0)\n",
            "Requirement already satisfied: typing-extensions>=4.2 in /usr/local/lib/python3.10/dist-packages (from cirq-core~=1.0->openfermion->tangelo-gc) (4.11.0)\n",
            "Requirement already satisfied: tqdm in /usr/local/lib/python3.10/dist-packages (from cirq-core~=1.0->openfermion->tangelo-gc) (4.66.2)\n",
            "Requirement already satisfied: charset-normalizer<4,>=2 in /usr/local/lib/python3.10/dist-packages (from requests>=2.18->openfermion->tangelo-gc) (3.3.2)\n",
            "Requirement already satisfied: idna<4,>=2.5 in /usr/local/lib/python3.10/dist-packages (from requests>=2.18->openfermion->tangelo-gc) (3.6)\n",
            "Requirement already satisfied: urllib3<3,>=1.21.1 in /usr/local/lib/python3.10/dist-packages (from requests>=2.18->openfermion->tangelo-gc) (2.0.7)\n",
            "Requirement already satisfied: certifi>=2017.4.17 in /usr/local/lib/python3.10/dist-packages (from requests>=2.18->openfermion->tangelo-gc) (2024.2.2)\n",
            "Requirement already satisfied: packaging in /usr/local/lib/python3.10/dist-packages (from deprecation->openfermion->tangelo-gc) (24.0)\n",
            "Requirement already satisfied: mpmath>=0.19 in /usr/local/lib/python3.10/dist-packages (from sympy->openfermion->tangelo-gc) (1.3.0)\n",
            "Requirement already satisfied: contourpy>=1.0.1 in /usr/local/lib/python3.10/dist-packages (from matplotlib~=3.0->cirq-core~=1.0->openfermion->tangelo-gc) (1.2.1)\n",
            "Requirement already satisfied: cycler>=0.10 in /usr/local/lib/python3.10/dist-packages (from matplotlib~=3.0->cirq-core~=1.0->openfermion->tangelo-gc) (0.12.1)\n",
            "Requirement already satisfied: fonttools>=4.22.0 in /usr/local/lib/python3.10/dist-packages (from matplotlib~=3.0->cirq-core~=1.0->openfermion->tangelo-gc) (4.51.0)\n",
            "Requirement already satisfied: kiwisolver>=1.0.1 in /usr/local/lib/python3.10/dist-packages (from matplotlib~=3.0->cirq-core~=1.0->openfermion->tangelo-gc) (1.4.5)\n",
            "Requirement already satisfied: pillow>=6.2.0 in /usr/local/lib/python3.10/dist-packages (from matplotlib~=3.0->cirq-core~=1.0->openfermion->tangelo-gc) (9.4.0)\n",
            "Requirement already satisfied: pyparsing>=2.3.1 in /usr/local/lib/python3.10/dist-packages (from matplotlib~=3.0->cirq-core~=1.0->openfermion->tangelo-gc) (3.1.2)\n",
            "Requirement already satisfied: python-dateutil>=2.7 in /usr/local/lib/python3.10/dist-packages (from matplotlib~=3.0->cirq-core~=1.0->openfermion->tangelo-gc) (2.8.2)\n",
            "Requirement already satisfied: pytz>=2020.1 in /usr/local/lib/python3.10/dist-packages (from pandas->cirq-core~=1.0->openfermion->tangelo-gc) (2023.4)\n",
            "Requirement already satisfied: tzdata>=2022.1 in /usr/local/lib/python3.10/dist-packages (from pandas->cirq-core~=1.0->openfermion->tangelo-gc) (2024.1)\n",
            "Requirement already satisfied: six>=1.5 in /usr/local/lib/python3.10/dist-packages (from python-dateutil>=2.7->matplotlib~=3.0->cirq-core~=1.0->openfermion->tangelo-gc) (1.16.0)\n",
            "Building wheels for collected packages: pubchempy\n",
            "  Building wheel for pubchempy (setup.py) ... \u001b[?25l\u001b[?25hdone\n",
            "  Created wheel for pubchempy: filename=PubChemPy-1.0.4-py3-none-any.whl size=13820 sha256=70417387b77fc6f7be89e940b6c86a9bf886f4a4c893c0d798937d6ce0e5679e\n",
            "  Stored in directory: /root/.cache/pip/wheels/90/7c/45/18a0671e3c3316966ef7ed9ad2b3f3300a7e41d3421a44e799\n",
            "Successfully built pubchempy\n",
            "Installing collected packages: pubchempy, bitarray, duet, deprecation, cirq-core, openfermion, tangelo-gc\n",
            "Successfully installed bitarray-2.9.2 cirq-core-1.3.0 deprecation-2.1.0 duet-0.2.9 openfermion-1.6.1 pubchempy-1.0.4 tangelo-gc-0.4.2\n",
            "Collecting PySCF\n",
            "  Downloading pyscf-2.5.0-py3-none-manylinux_2_17_x86_64.manylinux2014_x86_64.whl (47.3 MB)\n",
            "\u001b[2K     \u001b[90m━━━━━━━━━━━━━━━━━━━━━━━━━━━━━━━━━━━━━━━━\u001b[0m \u001b[32m47.3/47.3 MB\u001b[0m \u001b[31m11.4 MB/s\u001b[0m eta \u001b[36m0:00:00\u001b[0m\n",
            "\u001b[?25hRequirement already satisfied: numpy!=1.16,!=1.17,>=1.13 in /usr/local/lib/python3.10/dist-packages (from PySCF) (1.25.2)\n",
            "Requirement already satisfied: scipy!=1.5.0,!=1.5.1 in /usr/local/lib/python3.10/dist-packages (from PySCF) (1.11.4)\n",
            "Requirement already satisfied: h5py>=2.7 in /usr/local/lib/python3.10/dist-packages (from PySCF) (3.9.0)\n",
            "Requirement already satisfied: setuptools in /usr/local/lib/python3.10/dist-packages (from PySCF) (67.7.2)\n",
            "Installing collected packages: PySCF\n",
            "Successfully installed PySCF-2.5.0\n"
          ]
        }
      ],
      "source": [
        "!pip install tangelo-gc\n",
        "\n",
        "try:\n",
        "    import os\n",
        "except ImportError:\n",
        "    print (\"os error\")\n",
        "\n",
        "!pip install PySCF"
      ]
    },
    {
      "cell_type": "code",
      "source": [
        "###\n",
        "from tangelo.toolboxes.molecular_computation.frozen_orbitals import get_orbitals_excluding_homo_lumo\n",
        "from tangelo import SecondQuantizedMolecule as SQMol\n",
        "\n",
        "li2=  \"\"\"F 0.  0. 0.\n",
        "         F 1.412 0. 0. \"\"\"\n",
        "\n",
        "# freeze some\n",
        "fo = [0, 1, 2, 3]+[i for i in range(10,28)]\n",
        "\n",
        "# Runs RHF calculation\n",
        "mol_Li2 = SQMol(li2, q=0, spin=0, basis='6-31g(d,p)', frozen_orbitals=fo, symmetry=True)\n",
        "\n",
        "print(\"  #  Energy  Symm Occ\")\n",
        "for i in range(10):\n",
        "    print(f\"{i+1:3d}{mol_Li2.mo_energies[i]: 9.4f}  {mol_Li2.mo_symm_labels[i]}   {int(mol_Li2.mo_occ[i])}\")\n",
        "\n",
        "# Active electrons, Active orbitals\n",
        "print(f\"Number of active electrons: {mol_Li2.n_active_electrons}\")\n",
        "print(f\"Number of active orbtials: {mol_Li2.n_active_mos}\")"
      ],
      "metadata": {
        "colab": {
          "base_uri": "https://localhost:8080/"
        },
        "id": "MUzNTp-xr6TG",
        "outputId": "46805c14-d154-4ece-fd00-783d159adf86"
      },
      "execution_count": 5,
      "outputs": [
        {
          "output_type": "stream",
          "name": "stdout",
          "text": [
            "  #  Energy  Symm Occ\n",
            "  1 -26.4268  A1g   2\n",
            "  2 -26.4266  A1u   2\n",
            "  3  -1.7567  A1g   2\n",
            "  4  -1.4893  A1u   2\n",
            "  5  -0.8019  E1uy   2\n",
            "  6  -0.8019  E1ux   2\n",
            "  7  -0.7419  A1g   2\n",
            "  8  -0.6570  E1gx   2\n",
            "  9  -0.6570  E1gy   2\n",
            " 10   0.1082  A1u   0\n",
            "Number of active electrons: 10\n",
            "Number of active orbtials: 6\n"
          ]
        }
      ]
    },
    {
      "cell_type": "code",
      "source": [
        "print(\"Importing VQE, Ansatze\")\n",
        "from tangelo.algorithms.variational import VQESolver, BuiltInAnsatze\n",
        "print(\"Importing FCI\")\n",
        "from tangelo.algorithms.classical import FCISolver\n",
        "\n",
        "algorithm_resources = dict()\n",
        "\n",
        "# Ground state energy calculation with VQE, reference values with FCI\n",
        "vqe_options = {\"molecule\": mol_Li2, \"ansatz\": BuiltInAnsatze.UCCSD}\n",
        "print(\"Solving\")\n",
        "vqe_solver = VQESolver(vqe_options)\n",
        "print(\"Building\")\n",
        "vqe_solver.build()\n",
        "vqe_energy = vqe_solver.simulate()\n",
        "print(\"\\n Ground Singlet state\")\n",
        "print(f\"VQE energy = {vqe_energy}\")\n",
        "print(f\"CASCI energy = {FCISolver(mol_Li2).simulate()}\")\n",
        "algorithm_resources[\"vqe_ground_state\"] = vqe_solver.get_resources()"
      ],
      "metadata": {
        "colab": {
          "base_uri": "https://localhost:8080/"
        },
        "id": "GJjo_UkVsVH0",
        "outputId": "2f89f8ca-c443-4110-afee-b759b29fc4ff"
      },
      "execution_count": 6,
      "outputs": [
        {
          "output_type": "stream",
          "name": "stdout",
          "text": [
            "Importing VQE, Ansatze\n",
            "Importing FCI\n",
            "Solving\n",
            "Building\n",
            "\n",
            " Ground Singlet state\n",
            "VQE energy = -198.72875921028546\n",
            "CASCI energy = -198.72875921708652\n"
          ]
        }
      ]
    },
    {
      "cell_type": "code",
      "source": [
        "# Add initial VQE optimal circuit to the deflation circuits list\n",
        "deflation_circuits = [vqe_solver.optimal_circuit.copy()]\n",
        "\n",
        "dict_vqe = {}\n",
        "for i in range(3):\n",
        "    vqe_options = {\"molecule\": mol_Li2, \"ansatz\": BuiltInAnsatze.UpCCGSD,\n",
        "                   \"deflation_circuits\": deflation_circuits, \"deflation_coeff\": 0.1}\n",
        "    vqe_solver = VQESolver(vqe_options)\n",
        "    vqe_solver.build()\n",
        "    vqe_energy = vqe_solver.simulate()\n",
        "    print(f\"Excited state #{i+1} \\t VQE energy = {vqe_energy}\")\n",
        "    algorithm_resources[f\"vqe_deflation_state_{i+1}\"] = vqe_solver.get_resources()\n",
        "    dict_vqe[i+1] =  vqe_energy\n",
        "    deflation_circuits.append(vqe_solver.optimal_circuit.copy())"
      ],
      "metadata": {
        "id": "mT_6XLpms64-"
      },
      "execution_count": null,
      "outputs": []
    },
    {
      "cell_type": "code",
      "source": [],
      "metadata": {
        "id": "NddB90W9uQLd"
      },
      "execution_count": null,
      "outputs": []
    }
  ]
}
