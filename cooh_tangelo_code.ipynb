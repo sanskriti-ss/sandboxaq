{
 "cells": [
  {
   "cell_type": "code",
   "execution_count": 2,
   "id": "75401d2b-993c-4848-9538-669b0b2cf3fa",
   "metadata": {
    "tags": []
   },
   "outputs": [],
   "source": [
    "try:\n",
    "    import tangelo\n",
    "except ImportError:\n",
    "    !pip install git+https://github.com/goodchemistryco/Tangelo.git@develop --quiet\n",
    "    !pip install pyscf --quiet"
   ]
  },
  {
   "cell_type": "code",
   "execution_count": 3,
   "id": "9381540b-be91-4410-a0da-00ee20b204ef",
   "metadata": {
    "tags": []
   },
   "outputs": [
    {
     "name": "stdout",
     "output_type": "stream",
     "text": [
      "Collecting tangelo-gc\n",
      "  Using cached tangelo_gc-0.4.2-py3-none-any.whl.metadata (912 bytes)\n",
      "Collecting h5py (from tangelo-gc)\n",
      "  Using cached h5py-3.11.0-cp311-cp311-manylinux_2_17_x86_64.manylinux2014_x86_64.whl.metadata (2.5 kB)\n",
      "Collecting bitarray (from tangelo-gc)\n",
      "  Using cached bitarray-2.9.2-cp311-cp311-manylinux_2_17_x86_64.manylinux2014_x86_64.whl.metadata (34 kB)\n",
      "Collecting openfermion (from tangelo-gc)\n",
      "  Using cached openfermion-1.6.1-py3-none-any.whl.metadata (10 kB)\n",
      "Requirement already satisfied: numpy>=1.17.3 in /opt/.qbraid/environments/qbraid_000000/pyenv/lib/python3.11/site-packages (from h5py->tangelo-gc) (1.26.4)\n",
      "Requirement already satisfied: cirq-core~=1.0 in /opt/.qbraid/environments/qbraid_000000/pyenv/lib/python3.11/site-packages (from openfermion->tangelo-gc) (1.3.0)\n",
      "Collecting deprecation (from openfermion->tangelo-gc)\n",
      "  Using cached deprecation-2.1.0-py2.py3-none-any.whl.metadata (4.6 kB)\n",
      "Requirement already satisfied: networkx in /opt/.qbraid/environments/qbraid_000000/pyenv/lib/python3.11/site-packages (from openfermion->tangelo-gc) (3.2.1)\n",
      "Collecting pubchempy (from openfermion->tangelo-gc)\n",
      "  Using cached PubChemPy-1.0.4-py3-none-any.whl\n",
      "Requirement already satisfied: requests>=2.18 in /opt/.qbraid/environments/qbraid_000000/pyenv/lib/python3.11/site-packages (from openfermion->tangelo-gc) (2.31.0)\n",
      "Requirement already satisfied: scipy>=1.1.0 in /opt/.qbraid/environments/qbraid_000000/pyenv/lib/python3.11/site-packages (from openfermion->tangelo-gc) (1.13.0)\n",
      "Requirement already satisfied: sympy in /opt/.qbraid/environments/qbraid_000000/pyenv/lib/python3.11/site-packages (from openfermion->tangelo-gc) (1.12)\n",
      "Requirement already satisfied: duet~=0.2.8 in /opt/.qbraid/environments/qbraid_000000/pyenv/lib/python3.11/site-packages (from cirq-core~=1.0->openfermion->tangelo-gc) (0.2.9)\n",
      "Requirement already satisfied: matplotlib~=3.0 in /opt/.qbraid/environments/qbraid_000000/pyenv/lib/python3.11/site-packages (from cirq-core~=1.0->openfermion->tangelo-gc) (3.8.4)\n",
      "Requirement already satisfied: pandas in /opt/.qbraid/environments/qbraid_000000/pyenv/lib/python3.11/site-packages (from cirq-core~=1.0->openfermion->tangelo-gc) (2.2.1)\n",
      "Requirement already satisfied: sortedcontainers~=2.0 in /opt/.qbraid/environments/qbraid_000000/pyenv/lib/python3.11/site-packages (from cirq-core~=1.0->openfermion->tangelo-gc) (2.4.0)\n",
      "Requirement already satisfied: typing-extensions>=4.2 in /opt/.qbraid/environments/qbraid_000000/pyenv/lib/python3.11/site-packages (from cirq-core~=1.0->openfermion->tangelo-gc) (4.10.0)\n",
      "Requirement already satisfied: tqdm in /opt/.qbraid/environments/qbraid_000000/pyenv/lib/python3.11/site-packages (from cirq-core~=1.0->openfermion->tangelo-gc) (4.66.2)\n",
      "Requirement already satisfied: charset-normalizer<4,>=2 in /opt/.qbraid/environments/qbraid_000000/pyenv/lib/python3.11/site-packages (from requests>=2.18->openfermion->tangelo-gc) (3.3.2)\n",
      "Requirement already satisfied: idna<4,>=2.5 in /opt/.qbraid/environments/qbraid_000000/pyenv/lib/python3.11/site-packages (from requests>=2.18->openfermion->tangelo-gc) (3.6)\n",
      "Requirement already satisfied: urllib3<3,>=1.21.1 in /opt/.qbraid/environments/qbraid_000000/pyenv/lib/python3.11/site-packages (from requests>=2.18->openfermion->tangelo-gc) (2.2.1)\n",
      "Requirement already satisfied: certifi>=2017.4.17 in /opt/.qbraid/environments/qbraid_000000/pyenv/lib/python3.11/site-packages (from requests>=2.18->openfermion->tangelo-gc) (2024.2.2)\n",
      "Requirement already satisfied: packaging in /opt/.qbraid/environments/qbraid_000000/pyenv/lib/python3.11/site-packages (from deprecation->openfermion->tangelo-gc) (23.2)\n",
      "Requirement already satisfied: mpmath>=0.19 in /opt/.qbraid/environments/qbraid_000000/pyenv/lib/python3.11/site-packages (from sympy->openfermion->tangelo-gc) (1.3.0)\n",
      "Requirement already satisfied: contourpy>=1.0.1 in /opt/.qbraid/environments/qbraid_000000/pyenv/lib/python3.11/site-packages (from matplotlib~=3.0->cirq-core~=1.0->openfermion->tangelo-gc) (1.2.1)\n",
      "Requirement already satisfied: cycler>=0.10 in /opt/.qbraid/environments/qbraid_000000/pyenv/lib/python3.11/site-packages (from matplotlib~=3.0->cirq-core~=1.0->openfermion->tangelo-gc) (0.12.1)\n",
      "Requirement already satisfied: fonttools>=4.22.0 in /opt/.qbraid/environments/qbraid_000000/pyenv/lib/python3.11/site-packages (from matplotlib~=3.0->cirq-core~=1.0->openfermion->tangelo-gc) (4.50.0)\n",
      "Requirement already satisfied: kiwisolver>=1.3.1 in /opt/.qbraid/environments/qbraid_000000/pyenv/lib/python3.11/site-packages (from matplotlib~=3.0->cirq-core~=1.0->openfermion->tangelo-gc) (1.4.5)\n",
      "Requirement already satisfied: pillow>=8 in /opt/.qbraid/environments/qbraid_000000/pyenv/lib/python3.11/site-packages (from matplotlib~=3.0->cirq-core~=1.0->openfermion->tangelo-gc) (10.3.0)\n",
      "Requirement already satisfied: pyparsing>=2.3.1 in /opt/.qbraid/environments/qbraid_000000/pyenv/lib/python3.11/site-packages (from matplotlib~=3.0->cirq-core~=1.0->openfermion->tangelo-gc) (3.1.2)\n",
      "Requirement already satisfied: python-dateutil>=2.7 in /opt/.qbraid/environments/qbraid_000000/pyenv/lib/python3.11/site-packages (from matplotlib~=3.0->cirq-core~=1.0->openfermion->tangelo-gc) (2.9.0.post0)\n",
      "Requirement already satisfied: pytz>=2020.1 in /opt/.qbraid/environments/qbraid_000000/pyenv/lib/python3.11/site-packages (from pandas->cirq-core~=1.0->openfermion->tangelo-gc) (2024.1)\n",
      "Requirement already satisfied: tzdata>=2022.7 in /opt/.qbraid/environments/qbraid_000000/pyenv/lib/python3.11/site-packages (from pandas->cirq-core~=1.0->openfermion->tangelo-gc) (2024.1)\n",
      "Requirement already satisfied: six>=1.5 in /opt/.qbraid/environments/qbraid_000000/pyenv/lib/python3.11/site-packages (from python-dateutil>=2.7->matplotlib~=3.0->cirq-core~=1.0->openfermion->tangelo-gc) (1.16.0)\n",
      "Using cached tangelo_gc-0.4.2-py3-none-any.whl (598 kB)\n",
      "Using cached bitarray-2.9.2-cp311-cp311-manylinux_2_17_x86_64.manylinux2014_x86_64.whl (296 kB)\n",
      "Using cached h5py-3.11.0-cp311-cp311-manylinux_2_17_x86_64.manylinux2014_x86_64.whl (5.4 MB)\n",
      "Using cached openfermion-1.6.1-py3-none-any.whl (1.2 MB)\n",
      "Using cached deprecation-2.1.0-py2.py3-none-any.whl (11 kB)\n",
      "Installing collected packages: pubchempy, bitarray, h5py, deprecation, openfermion, tangelo-gc\n",
      "Successfully installed bitarray-2.9.2 deprecation-2.1.0 h5py-3.11.0 openfermion-1.6.1 pubchempy-1.0.4 tangelo-gc-0.4.2\n",
      "Note: you may need to restart the kernel to use updated packages.\n"
     ]
    }
   ],
   "source": [
    "pip install tangelo-gc"
   ]
  },
  {
   "cell_type": "code",
   "execution_count": 4,
   "id": "0c0c9e0d-6055-4f92-aabc-0432500e1377",
   "metadata": {
    "tags": []
   },
   "outputs": [
    {
     "name": "stdout",
     "output_type": "stream",
     "text": [
      "Collecting pyscf\n",
      "  Using cached pyscf-2.5.0-py3-none-manylinux_2_17_x86_64.manylinux2014_x86_64.whl.metadata (3.1 kB)\n",
      "Requirement already satisfied: numpy!=1.16,!=1.17,>=1.13 in /opt/.qbraid/environments/qbraid_000000/pyenv/lib/python3.11/site-packages (from pyscf) (1.26.4)\n",
      "Requirement already satisfied: scipy!=1.5.0,!=1.5.1 in /opt/.qbraid/environments/qbraid_000000/pyenv/lib/python3.11/site-packages (from pyscf) (1.13.0)\n",
      "Requirement already satisfied: h5py>=2.7 in /opt/.qbraid/environments/qbraid_000000/pyenv/lib/python3.11/site-packages (from pyscf) (3.11.0)\n",
      "Requirement already satisfied: setuptools in /opt/.qbraid/environments/qbraid_000000/pyenv/lib/python3.11/site-packages (from pyscf) (65.5.0)\n",
      "Using cached pyscf-2.5.0-py3-none-manylinux_2_17_x86_64.manylinux2014_x86_64.whl (47.3 MB)\n",
      "Installing collected packages: pyscf\n",
      "Successfully installed pyscf-2.5.0\n",
      "Note: you may need to restart the kernel to use updated packages.\n"
     ]
    }
   ],
   "source": [
    "pip install pyscf"
   ]
  },
  {
   "cell_type": "code",
   "execution_count": 7,
   "id": "53d48a8d-3a1a-429e-9c5b-4b518339453f",
   "metadata": {
    "tags": []
   },
   "outputs": [],
   "source": [
    "from tangelo import SecondQuantizedMolecule as SQMol\n",
    "#o2_xyz = [(\"O\", (0., 0., 0.)), (\"O\", (0., 0., 1.21))]\n",
    "# cooh=  \"\"\"C 0.  0. 0.\n",
    "#          O 0. 1.21 0. \n",
    "#          O 1.3 0. 0.\n",
    "#          H 2.3 0. 0.\"\"\"\n",
    "\n",
    "cooh = [(\"C\",(0.,0., 0.)),\n",
    "        (\"O\",(0.,1.21, 0)),\n",
    "        (\"O\",(1.3,0., 0)),\n",
    "        (\"H\",(0.,0., 1.21)),\n",
    "       ]\n",
    "\n",
    "\n",
    "# sib4 = [(\"C\",(0.,0., 0.)),\n",
    "#         (\"O\",(0.,1.21, 0)),\n",
    "#         (\"O\",(1.3,0., 0)),\n",
    "#         (\"H\",(0.,0., 1.21)),\n",
    "#        ]\n",
    "\n",
    "\n",
    "# cooh = [(\"Si\",(0.,0., 0.)),\n",
    "#         (\"N\",(0.,1.73, 0))]\n",
    "\n",
    "# 2 electrons in 2 orbitals\n",
    "#fo = [1,2,3,5]+[i for i in range(12,28)]\n",
    "cooh_fo = [0,1,2,3,5,6,7] + [i for i in range(13,28)]\n",
    "#sib4_f0 = [0,1,2,3,4,5,6,7,8,9,10,15] + [i for i in range(21,50)]\n",
    "# Runs RHF calculation\n",
    "mol_Li2 = SQMol(cooh, q=1, spin=0, basis='6-31g(d,p)',frozen_orbitals=cooh_fo ,symmetry=True)\n",
    "\n",
    "# Runs ROHF calculation\n",
    "#mol_Li2_t = SQMol(cooh, q=0, basis=\"6-31g(d,p)\", frozen_orbitals=fo, symmetry=True)"
   ]
  },
  {
   "cell_type": "code",
   "execution_count": 9,
   "id": "dbd328f6-72ad-4cde-bd3e-b2e4374a054f",
   "metadata": {
    "tags": []
   },
   "outputs": [
    {
     "name": "stdout",
     "output_type": "stream",
     "text": [
      "SecondQuantizedMolecule(xyz=[('C', (0.0, 0.0, 0.0)), ('O', (0.0, 1.21, 0.0)), ('O', (1.3, 0.0, 0.0)), ('H', (0.0, 0.0, 1.21))], q=1, spin=0, solver=<tangelo.toolboxes.molecular_computation.integral_solver_pyscf.IntegralSolverPySCF object at 0x7ea98558f310>, n_atoms=4, n_electrons=22, basis='6-31g(d,p)', ecp={}, symmetry=True, uhf=False, mf_energy=-187.47905047999376, mo_energies=array([-21.09263416, -21.07598051, -11.77052898,  -1.94962558,\n",
      "        -1.69155564,  -1.20440058,  -1.11084263,  -1.05312835,\n",
      "        -0.95605871,  -0.90071396,  -0.82290708,  -0.34519878,\n",
      "        -0.30590651,  -0.06007281,   0.04936497,   0.15944232,\n",
      "         0.39501938,   0.43587028,   0.52874195,   0.65747011,\n",
      "         0.68631231,   0.77151982,   0.80734708,   0.84386331,\n",
      "         0.85243084,   1.01735764,   1.06337786,   1.21760129,\n",
      "         1.24904065,   1.27264027,   1.38207151,   1.45725077,\n",
      "         1.62242185,   1.74464929,   1.77666859,   1.87602898,\n",
      "         1.97405878,   2.14889258,   2.27382393,   2.35399156,\n",
      "         2.45599923,   2.5627403 ,   2.59613414,   2.6848513 ,\n",
      "         2.8913096 ,   2.97468341,   3.11093042]), mo_occ=array([2., 2., 2., 2., 2., 2., 2., 2., 2., 2., 2., 0., 0., 0., 0., 0., 0.,\n",
      "       0., 0., 0., 0., 0., 0., 0., 0., 0., 0., 0., 0., 0., 0., 0., 0., 0.,\n",
      "       0., 0., 0., 0., 0., 0., 0., 0., 0., 0., 0., 0., 0.]), n_mos=47, n_sos=94, active_occupied=[4, 8, 9, 10], frozen_occupied=[0, 1, 2, 3, 5, 6, 7], active_virtual=[11, 12, 28, 29, 30, 31, 32, 33, 34, 35, 36, 37, 38, 39, 40, 41, 42, 43, 44, 45, 46], frozen_virtual=[13, 14, 15, 16, 17, 18, 19, 20, 21, 22, 23, 24, 25, 26, 27])\n",
      "Number of active electrons: 8\n",
      "Number of active orbitals: 25\n"
     ]
    }
   ],
   "source": [
    "print(mol_Li2)\n",
    "\n",
    "# Active electrons, Active orbitals\n",
    "print(f\"Number of active electrons: {mol_Li2.n_active_electrons}\")\n",
    "print(f\"Number of active orbitals: {mol_Li2.n_active_mos}\")"
   ]
  },
  {
   "cell_type": "code",
   "execution_count": 10,
   "id": "86a7b89d-6a4c-4c37-827f-268503fcf55a",
   "metadata": {
    "tags": []
   },
   "outputs": [
    {
     "name": "stdout",
     "output_type": "stream",
     "text": [
      "  #  Energy  Symm Occ\n",
      "  1 -21.0926  A   2\n",
      "  2 -21.0760  A   2\n",
      "  3 -11.7705  A   2\n",
      "  4  -1.9496  A   2\n",
      "Number of active electrons: 8\n",
      "Number of active orbtials: 25\n"
     ]
    }
   ],
   "source": [
    "# Symmetry labels and occupations for frozen core and active orbitals\n",
    "print(\"  #  Energy  Symm Occ\")\n",
    "for i in range(4):\n",
    "    print(f\"{i+1:3d}{mol_Li2.mo_energies[i]: 9.4f}  {mol_Li2.mo_symm_labels[i]}   {int(mol_Li2.mo_occ[i])}\")\n",
    "\n",
    "# Active electrons, Active orbitals\n",
    "print(f\"Number of active electrons: {mol_Li2.n_active_electrons}\")\n",
    "print(f\"Number of active orbtials: {mol_Li2.n_active_mos}\")"
   ]
  },
  {
   "cell_type": "code",
   "execution_count": null,
   "id": "51f344cc-cfe4-432c-bfdd-54d0fd1f3e89",
   "metadata": {
    "tags": []
   },
   "outputs": [],
   "source": [
    "from tangelo.algorithms.variational import VQESolver, BuiltInAnsatze\n",
    "from tangelo.algorithms.classical import FCISolver\n",
    "\n",
    "# Dictionary of resources for each algorithm\n",
    "algorithm_resources = dict()\n",
    "\n",
    "# Ground state energy calculation with VQE, reference values with FCI\n",
    "vqe_options = {\"molecule\": mol_Li2, \"ansatz\": BuiltInAnsatze.UCCSD}\n",
    "vqe_solver = VQESolver(vqe_options)\n",
    "vqe_solver.build()\n",
    "vqe_energy = vqe_solver.simulate()\n",
    "print(\"\\n Ground Singlet state\")\n",
    "print(f\"VQE energy = {vqe_energy}\")\n",
    "print(f\"CASCI energy = {FCISolver(mol_Li2).simulate()}\")\n",
    "algorithm_resources[\"vqe_ground_state\"] = vqe_solver.get_resources()\n",
    "\n",
    "# First excited state energy calculation with VQE, reference values with FCI\n",
    "vqe_options = {\"molecule\": mol_Li2_t, \"ansatz\": BuiltInAnsatze.UpCCGSD}\n",
    "vqe_solver_t = VQESolver(vqe_options)\n",
    "vqe_solver_t.build()\n",
    "vqe_energy_t = vqe_solver_t.simulate()\n",
    "print(\"\\n Lowest Triplet state\")\n",
    "print(f\"VQE energy = {vqe_energy_t}\")\n",
    "print(f\"CASCI energy = {FCISolver(mol_Li2_t).simulate()}\")\n",
    "algorithm_resources[\"vqe_triplet_state\"] = vqe_solver_t.get_resources()\n",
    "\n",
    "#stor ground state fo rlater\n",
    "ground_vqe = vqe_energy"
   ]
  }
 ],
 "metadata": {
  "kernelspec": {
   "display_name": "Python 3 [Default]",
   "language": "python",
   "name": "python3"
  },
  "language_info": {
   "codemirror_mode": {
    "name": "ipython",
    "version": 3
   },
   "file_extension": ".py",
   "mimetype": "text/x-python",
   "name": "python",
   "nbconvert_exporter": "python",
   "pygments_lexer": "ipython3",
   "version": "3.11.8"
  }
 },
 "nbformat": 4,
 "nbformat_minor": 5
}
