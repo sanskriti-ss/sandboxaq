{
  "cells": [
    {
      "cell_type": "markdown",
      "source": [
        "# Let's first install our modules"
      ],
      "metadata": {
        "id": "M9quN8uMEY5V"
      },
      "id": "M9quN8uMEY5V"
    },
    {
      "cell_type": "code",
      "execution_count": 2,
      "id": "94e872e3-7699-48dd-8449-bea5f6f7ab30",
      "metadata": {
        "tags": [],
        "colab": {
          "base_uri": "https://localhost:8080/"
        },
        "id": "94e872e3-7699-48dd-8449-bea5f6f7ab30",
        "outputId": "8ce49a00-5eea-4f66-a871-6a6e72be159f"
      },
      "outputs": [
        {
          "output_type": "stream",
          "name": "stdout",
          "text": [
            "Collecting tangelo-gc\n",
            "  Downloading tangelo_gc-0.4.2-py3-none-any.whl (598 kB)\n",
            "\u001b[2K     \u001b[90m━━━━━━━━━━━━━━━━━━━━━━━━━━━━━━━━━━━━━━━━\u001b[0m \u001b[32m598.9/598.9 kB\u001b[0m \u001b[31m8.1 MB/s\u001b[0m eta \u001b[36m0:00:00\u001b[0m\n",
            "\u001b[?25hRequirement already satisfied: h5py in /usr/local/lib/python3.10/dist-packages (from tangelo-gc) (3.9.0)\n",
            "Collecting bitarray (from tangelo-gc)\n",
            "  Downloading bitarray-2.9.2-cp310-cp310-manylinux_2_17_x86_64.manylinux2014_x86_64.whl (288 kB)\n",
            "\u001b[2K     \u001b[90m━━━━━━━━━━━━━━━━━━━━━━━━━━━━━━━━━━━━━━━━\u001b[0m \u001b[32m288.3/288.3 kB\u001b[0m \u001b[31m32.7 MB/s\u001b[0m eta \u001b[36m0:00:00\u001b[0m\n",
            "\u001b[?25hCollecting openfermion (from tangelo-gc)\n",
            "  Downloading openfermion-1.6.1-py3-none-any.whl (1.2 MB)\n",
            "\u001b[2K     \u001b[90m━━━━━━━━━━━━━━━━━━━━━━━━━━━━━━━━━━━━━━━━\u001b[0m \u001b[32m1.2/1.2 MB\u001b[0m \u001b[31m33.9 MB/s\u001b[0m eta \u001b[36m0:00:00\u001b[0m\n",
            "\u001b[?25hRequirement already satisfied: numpy>=1.17.3 in /usr/local/lib/python3.10/dist-packages (from h5py->tangelo-gc) (1.25.2)\n",
            "Collecting cirq-core~=1.0 (from openfermion->tangelo-gc)\n",
            "  Downloading cirq_core-1.3.0-py3-none-any.whl (1.8 MB)\n",
            "\u001b[2K     \u001b[90m━━━━━━━━━━━━━━━━━━━━━━━━━━━━━━━━━━━━━━━━\u001b[0m \u001b[32m1.8/1.8 MB\u001b[0m \u001b[31m49.3 MB/s\u001b[0m eta \u001b[36m0:00:00\u001b[0m\n",
            "\u001b[?25hCollecting deprecation (from openfermion->tangelo-gc)\n",
            "  Downloading deprecation-2.1.0-py2.py3-none-any.whl (11 kB)\n",
            "Requirement already satisfied: networkx in /usr/local/lib/python3.10/dist-packages (from openfermion->tangelo-gc) (3.3)\n",
            "Collecting pubchempy (from openfermion->tangelo-gc)\n",
            "  Downloading PubChemPy-1.0.4.tar.gz (29 kB)\n",
            "  Preparing metadata (setup.py) ... \u001b[?25l\u001b[?25hdone\n",
            "Requirement already satisfied: requests>=2.18 in /usr/local/lib/python3.10/dist-packages (from openfermion->tangelo-gc) (2.31.0)\n",
            "Requirement already satisfied: scipy>=1.1.0 in /usr/local/lib/python3.10/dist-packages (from openfermion->tangelo-gc) (1.11.4)\n",
            "Requirement already satisfied: sympy in /usr/local/lib/python3.10/dist-packages (from openfermion->tangelo-gc) (1.12)\n",
            "Collecting duet~=0.2.8 (from cirq-core~=1.0->openfermion->tangelo-gc)\n",
            "  Downloading duet-0.2.9-py3-none-any.whl (29 kB)\n",
            "Requirement already satisfied: matplotlib~=3.0 in /usr/local/lib/python3.10/dist-packages (from cirq-core~=1.0->openfermion->tangelo-gc) (3.7.1)\n",
            "Requirement already satisfied: pandas in /usr/local/lib/python3.10/dist-packages (from cirq-core~=1.0->openfermion->tangelo-gc) (2.0.3)\n",
            "Requirement already satisfied: sortedcontainers~=2.0 in /usr/local/lib/python3.10/dist-packages (from cirq-core~=1.0->openfermion->tangelo-gc) (2.4.0)\n",
            "Requirement already satisfied: typing-extensions>=4.2 in /usr/local/lib/python3.10/dist-packages (from cirq-core~=1.0->openfermion->tangelo-gc) (4.11.0)\n",
            "Requirement already satisfied: tqdm in /usr/local/lib/python3.10/dist-packages (from cirq-core~=1.0->openfermion->tangelo-gc) (4.66.2)\n",
            "Requirement already satisfied: charset-normalizer<4,>=2 in /usr/local/lib/python3.10/dist-packages (from requests>=2.18->openfermion->tangelo-gc) (3.3.2)\n",
            "Requirement already satisfied: idna<4,>=2.5 in /usr/local/lib/python3.10/dist-packages (from requests>=2.18->openfermion->tangelo-gc) (3.6)\n",
            "Requirement already satisfied: urllib3<3,>=1.21.1 in /usr/local/lib/python3.10/dist-packages (from requests>=2.18->openfermion->tangelo-gc) (2.0.7)\n",
            "Requirement already satisfied: certifi>=2017.4.17 in /usr/local/lib/python3.10/dist-packages (from requests>=2.18->openfermion->tangelo-gc) (2024.2.2)\n",
            "Requirement already satisfied: packaging in /usr/local/lib/python3.10/dist-packages (from deprecation->openfermion->tangelo-gc) (24.0)\n",
            "Requirement already satisfied: mpmath>=0.19 in /usr/local/lib/python3.10/dist-packages (from sympy->openfermion->tangelo-gc) (1.3.0)\n",
            "Requirement already satisfied: contourpy>=1.0.1 in /usr/local/lib/python3.10/dist-packages (from matplotlib~=3.0->cirq-core~=1.0->openfermion->tangelo-gc) (1.2.1)\n",
            "Requirement already satisfied: cycler>=0.10 in /usr/local/lib/python3.10/dist-packages (from matplotlib~=3.0->cirq-core~=1.0->openfermion->tangelo-gc) (0.12.1)\n",
            "Requirement already satisfied: fonttools>=4.22.0 in /usr/local/lib/python3.10/dist-packages (from matplotlib~=3.0->cirq-core~=1.0->openfermion->tangelo-gc) (4.51.0)\n",
            "Requirement already satisfied: kiwisolver>=1.0.1 in /usr/local/lib/python3.10/dist-packages (from matplotlib~=3.0->cirq-core~=1.0->openfermion->tangelo-gc) (1.4.5)\n",
            "Requirement already satisfied: pillow>=6.2.0 in /usr/local/lib/python3.10/dist-packages (from matplotlib~=3.0->cirq-core~=1.0->openfermion->tangelo-gc) (9.4.0)\n",
            "Requirement already satisfied: pyparsing>=2.3.1 in /usr/local/lib/python3.10/dist-packages (from matplotlib~=3.0->cirq-core~=1.0->openfermion->tangelo-gc) (3.1.2)\n",
            "Requirement already satisfied: python-dateutil>=2.7 in /usr/local/lib/python3.10/dist-packages (from matplotlib~=3.0->cirq-core~=1.0->openfermion->tangelo-gc) (2.8.2)\n",
            "Requirement already satisfied: pytz>=2020.1 in /usr/local/lib/python3.10/dist-packages (from pandas->cirq-core~=1.0->openfermion->tangelo-gc) (2023.4)\n",
            "Requirement already satisfied: tzdata>=2022.1 in /usr/local/lib/python3.10/dist-packages (from pandas->cirq-core~=1.0->openfermion->tangelo-gc) (2024.1)\n",
            "Requirement already satisfied: six>=1.5 in /usr/local/lib/python3.10/dist-packages (from python-dateutil>=2.7->matplotlib~=3.0->cirq-core~=1.0->openfermion->tangelo-gc) (1.16.0)\n",
            "Building wheels for collected packages: pubchempy\n",
            "  Building wheel for pubchempy (setup.py) ... \u001b[?25l\u001b[?25hdone\n",
            "  Created wheel for pubchempy: filename=PubChemPy-1.0.4-py3-none-any.whl size=13820 sha256=4230b2e4811a4d137bcc8a79c5f5798d77079b0824577a949aeb2911772609af\n",
            "  Stored in directory: /root/.cache/pip/wheels/90/7c/45/18a0671e3c3316966ef7ed9ad2b3f3300a7e41d3421a44e799\n",
            "Successfully built pubchempy\n",
            "Installing collected packages: pubchempy, bitarray, duet, deprecation, cirq-core, openfermion, tangelo-gc\n",
            "Successfully installed bitarray-2.9.2 cirq-core-1.3.0 deprecation-2.1.0 duet-0.2.9 openfermion-1.6.1 pubchempy-1.0.4 tangelo-gc-0.4.2\n"
          ]
        }
      ],
      "source": [
        "!pip install tangelo-gc\n",
        "\n",
        "try:\n",
        "    import os\n",
        "except ImportError:\n",
        "    print (\"os error\")"
      ]
    },
    {
      "cell_type": "code",
      "execution_count": 3,
      "id": "2dbe1e57-55a0-4f78-8425-2b3b91756f0c",
      "metadata": {
        "tags": [],
        "colab": {
          "base_uri": "https://localhost:8080/"
        },
        "id": "2dbe1e57-55a0-4f78-8425-2b3b91756f0c",
        "outputId": "7c501f96-5f5c-43e7-a423-d12a4bd70194"
      },
      "outputs": [
        {
          "output_type": "stream",
          "name": "stdout",
          "text": [
            "Collecting PySCF\n",
            "  Downloading pyscf-2.5.0-py3-none-manylinux_2_17_x86_64.manylinux2014_x86_64.whl (47.3 MB)\n",
            "\u001b[2K     \u001b[90m━━━━━━━━━━━━━━━━━━━━━━━━━━━━━━━━━━━━━━━━\u001b[0m \u001b[32m47.3/47.3 MB\u001b[0m \u001b[31m9.9 MB/s\u001b[0m eta \u001b[36m0:00:00\u001b[0m\n",
            "\u001b[?25hRequirement already satisfied: numpy!=1.16,!=1.17,>=1.13 in /usr/local/lib/python3.10/dist-packages (from PySCF) (1.25.2)\n",
            "Requirement already satisfied: scipy!=1.5.0,!=1.5.1 in /usr/local/lib/python3.10/dist-packages (from PySCF) (1.11.4)\n",
            "Requirement already satisfied: h5py>=2.7 in /usr/local/lib/python3.10/dist-packages (from PySCF) (3.9.0)\n",
            "Requirement already satisfied: setuptools in /usr/local/lib/python3.10/dist-packages (from PySCF) (67.7.2)\n",
            "Installing collected packages: PySCF\n",
            "Successfully installed PySCF-2.5.0\n"
          ]
        }
      ],
      "source": [
        "!pip install PySCF"
      ]
    },
    {
      "cell_type": "markdown",
      "id": "3b924dc0-0a06-4d76-9a00-16997aa39beb",
      "metadata": {
        "tags": [],
        "id": "3b924dc0-0a06-4d76-9a00-16997aa39beb"
      },
      "source": [
        "# Building frozen silicon hexagon"
      ]
    },
    {
      "cell_type": "markdown",
      "id": "53683e7b-8928-4be8-8ab1-c1b52046f338",
      "metadata": {
        "id": "53683e7b-8928-4be8-8ab1-c1b52046f338"
      },
      "source": [
        "## First, we're building the shape. Let's use the automatic solver to get an idea of what the default freezing would be."
      ]
    },
    {
      "cell_type": "code",
      "execution_count": null,
      "id": "39a9991f-35ec-466c-96fe-4bb55579d598",
      "metadata": {
        "id": "39a9991f-35ec-466c-96fe-4bb55579d598"
      },
      "outputs": [],
      "source": [
        "##########################\n",
        "from tangelo import SecondQuantizedMolecule as SQMol\n",
        "\n",
        "# crystal lattice Si\n",
        "# source: https://www.princeton.edu/~maelabs/mae324/glos324/silicon.htm\n",
        "# si_xyz = [(\"Si\", (0., 0., 0.)), (\"Si\", (0., 0., 2.35))]\n",
        "\n",
        "# put into hexagon\n",
        "si_xyz = [(\"Si\", (0., 0., 0.)), (\"Si\", (0., -2.35, 0)), (\"Si\", (2.35*0.5, 2.35*0.866, 0)),\n",
        "         (\"Si\", (2.35*0.5, -2.35*0.866, 0)), (\"Si\", (-2.35*0.5, 2.35*0.866, 0)), (\"Si\", (-2.35*0.5, -2.35*0.866, 0))]\n",
        "\n",
        "\n",
        "si_6311gdp = SQMol(si_xyz, q=0, spin=2)\n",
        "print(f\"{si_6311gdp.n_active_mos} active molecular orbitals\")\n",
        "print(f\"{si_6311gdp.n_active_electrons} active electrons\")\n",
        "\n",
        "##########################\n",
        "\n",
        "basis_sets = [\n",
        "    \"STO-3G\",       # Simple zeta, minimal basis.\n",
        "    \"3-21G\",        # Double zeta.\n",
        "    \"6-31G\",        # Double zeta with more Gaussian primitives.\n",
        "    \"6-31G(d,p)\",   # Polarization functions (+ 5 d-orbitals for all atoms except H, +3 p-orbitals for H atoms) added.\n",
        "    \"6-311G(d,p)\",  # Triple zeta with polarization functions.\n",
        "    \"6-311+G(d,p)\", # Triple zeta with polarization functions and diffuse functions.\n",
        "    \"cc-pvqz\",      # Quadruple zeta.\n",
        "    \"cc-pv5z\"       # Quintuple zeta.\n",
        "]\n",
        "\n",
        "###\n",
        "si_6311gdp.mo_occ"
      ]
    },
    {
      "cell_type": "markdown",
      "id": "d132a5cf-0161-43b6-a709-26ed899d3666",
      "metadata": {
        "id": "d132a5cf-0161-43b6-a709-26ed899d3666"
      },
      "source": [
        "### Looking at the periodic table, to simplify the process, we can use just the electrons in the valence shell. We also want to minimize the number of orbitals, so we played around with the other frozen orbitals."
      ]
    },
    {
      "cell_type": "code",
      "execution_count": 7,
      "id": "b07c9993-52ed-4001-a486-8d4dee77197f",
      "metadata": {
        "tags": [],
        "colab": {
          "base_uri": "https://localhost:8080/"
        },
        "id": "b07c9993-52ed-4001-a486-8d4dee77197f",
        "outputId": "c5c667e3-ed06-41ef-8651-3560431ad532"
      },
      "outputs": [
        {
          "output_type": "stream",
          "name": "stdout",
          "text": [
            "  #  Energy  Symm Occ\n",
            "  1 -68.9478  A1   2\n",
            "  2 -68.8524  A1   2\n",
            "  3 -68.8116  B2   2\n",
            "  4 -68.8116  A1   2\n",
            "  5 -68.8095  A1   2\n",
            "  6 -68.8094  B2   2\n",
            "  7  -6.4481  A1   2\n",
            "  8  -6.2513  B2   2\n",
            "  9  -6.2317  A1   2\n",
            " 10  -6.2091  A1   2\n",
            "Number of active electrons: 12\n",
            "Number of active orbtials: 14\n"
          ]
        }
      ],
      "source": [
        "from tangelo import SecondQuantizedMolecule as SQMol\n",
        "si6=  \"\"\"Si 0.  0. 0.\n",
        "         Si 0. -2.35 0.\n",
        "         Si 2.35*0.5 2.35*0.866 0.\n",
        "         Si 2.35*0.5 -2.35*0.866 0.\n",
        "         Si -2.35*0.5 2.35*0.866 0.\n",
        "         Si -2.35*0.5 -2.35*0.866 0. \"\"\"\n",
        "\n",
        "# freeze some orbitals\n",
        "fo = [0, 1, 2, 3, 4, 5, 6, 7, 8, 9, 10, 11, 12, 13, 14, 15, 16, 17,18, 19, 20, 21, 22, 23, 24]+[i for i in range(31,100)]\n",
        "\n",
        "# Runs RHF calculation\n",
        "mol_si6 = SQMol(si6, q=0, spin=0, basis='6-31g(d,p)', frozen_orbitals=fo, symmetry=True)\n",
        "\n",
        "print(\"  #  Energy  Symm Occ\")\n",
        "for i in range(10):\n",
        "    print(f\"{i+1:3d}{mol_si6.mo_energies[i]: 9.4f}  {mol_si6.mo_symm_labels[i]}   {int(mol_si6.mo_occ[i])}\")\n",
        "\n",
        "# Active electrons, Active orbitals\n",
        "print(f\"Number of active electrons: {mol_si6.n_active_electrons}\")\n",
        "print(f\"Number of active orbtials: {mol_si6.n_active_mos}\")"
      ]
    },
    {
      "cell_type": "markdown",
      "source": [
        "# Now, let us try to get the ground energy state. We will use FCI (Classical) and VQE (Combination) to compare the both."
      ],
      "metadata": {
        "id": "Hiuj9mG7FEVV"
      },
      "id": "Hiuj9mG7FEVV"
    },
    {
      "cell_type": "code",
      "execution_count": null,
      "id": "53f70b69-bb97-4f9c-b3a5-338ab659c527",
      "metadata": {
        "tags": [],
        "colab": {
          "base_uri": "https://localhost:8080/"
        },
        "id": "53f70b69-bb97-4f9c-b3a5-338ab659c527",
        "outputId": "d8840472-295c-4ee9-fb3c-c6c71867ff2b"
      },
      "outputs": [
        {
          "output_type": "stream",
          "name": "stdout",
          "text": [
            "Importing VQE, Ansatze\n",
            "Importing FCI\n",
            "Solving FCI\n",
            "CASCI energy = -1730.917060713716\n",
            "Solving\n",
            "Building\n"
          ]
        }
      ],
      "source": [
        "# Now, let us try to get the ground energy state.\n",
        "print(\"Importing VQE, Ansatze\")\n",
        "from tangelo.algorithms.variational import VQESolver, BuiltInAnsatze\n",
        "print(\"Importing FCI\")\n",
        "from tangelo.algorithms.classical import FCISolver\n",
        "\n",
        "algorithm_resources = dict()\n",
        "\n",
        "print(\"Solving FCI\")\n",
        "print(f\"CASCI energy = {FCISolver(mol_si6).simulate()}\")\n",
        "\n",
        "# Ground state energy calculation with VQE, reference values with FCI\n",
        "vqe_options = {\"molecule\": mol_si6, \"ansatz\": BuiltInAnsatze.UCCSD}\n",
        "print(\"Solving\")\n",
        "vqe_solver = VQESolver(vqe_options)\n",
        "print(\"Building\")\n",
        "vqe_solver.build()\n",
        "vqe_energy = vqe_solver.simulate()\n",
        "print(\"\\n Ground Singlet state\")\n",
        "print(f\"VQE energy = {vqe_energy}\")\n",
        "\n",
        "algorithm_resources[\"vqe_ground_state\"] = vqe_solver.get_resources()"
      ]
    },
    {
      "cell_type": "markdown",
      "source": [
        "# The above cell did not run. But if we did, we could run the code below to get the different energy levels for the different excited states, calculate the deltas, and then use it to determine the range of absorbable energies, and thus frequencies and wavelengths.\n",
        "#### We have this functional for Li2, if you want to check out that document."
      ],
      "metadata": {
        "id": "NbHkh_Y7FNwu"
      },
      "id": "NbHkh_Y7FNwu"
    },
    {
      "cell_type": "code",
      "source": [
        "# After acvhieving the ground state, we can use deflation to get the first and subsequent excited states.\n",
        "deflation_circuits = [vqe_solver.optimal_circuit.copy()]\n",
        "\n",
        "# Calculate first and second excited states by adding optimal circuits to deflation_circuits\n",
        "dict_vqe = {}\n",
        "for i in range(3):\n",
        "    vqe_options = {\"molecule\": mol_si6, \"ansatz\": BuiltInAnsatze.UpCCGSD,\n",
        "                   \"deflation_circuits\": deflation_circuits, \"deflation_coeff\": 0.4}\n",
        "    vqe_solver = VQESolver(vqe_options)\n",
        "    vqe_solver.build()\n",
        "    vqe_energy = vqe_solver.simulate()\n",
        "    print(f\"Excited state #{i+1} \\t VQE energy = {vqe_energy}\")\n",
        "    algorithm_resources[f\"vqe_deflation_state_{i+1}\"] = vqe_solver.get_resources()\n",
        "    dict_vqe[i+1] =  vqe_energy\n",
        "    deflation_circuits.append(vqe_solver.optimal_circuit.copy())"
      ],
      "metadata": {
        "id": "s7ZF1RTxDBAF"
      },
      "id": "s7ZF1RTxDBAF",
      "execution_count": null,
      "outputs": []
    }
  ],
  "metadata": {
    "kernelspec": {
      "display_name": "Python 3 [Default]",
      "language": "python",
      "name": "python3"
    },
    "language_info": {
      "codemirror_mode": {
        "name": "ipython",
        "version": 3
      },
      "file_extension": ".py",
      "mimetype": "text/x-python",
      "name": "python",
      "nbconvert_exporter": "python",
      "pygments_lexer": "ipython3",
      "version": "3.11.8"
    },
    "colab": {
      "provenance": []
    }
  },
  "nbformat": 4,
  "nbformat_minor": 5
}
